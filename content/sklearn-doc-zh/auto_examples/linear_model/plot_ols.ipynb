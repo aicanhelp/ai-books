{
 "cells": [
  {
   "cell_type": "markdown",
   "metadata": {},
   "source": [
    "\n",
    "# 线性回归\n",
    "\n",
    ">翻译者:[@Loopy](https://github.com/loopyme)        \n",
    ">校验者:[@barrycg](https://github.com/barrycg)\n",
    "\n",
    "本例仅使用`糖尿病数据集`的第一个特征，来展示线性回归在二维空间上的表现。下图中的直线, 即是线性回归所确定的一个界限，其目标是使得数据集中的实际值与线性回归所得的预测值之间的残差平方和最小。\n",
    "\n",
    "同时也计算了回归系数、残差平方和以及解释方差得分，来判断该线性回归模型的质量。\n",
    "> *原文解释和代码不符合*:\n",
    ">>实际上计算了回归系数, 均方误差（MSE）,判定系数(r2_score)\n",
    ">>>判定系数和解释方差得分并不绝对相等，当实际值和预测值之间的误差均值为0时，两者相同，否则数值上有着略微误差。均方误差和残差平方和虽然都是定义预测值和实际值的偏离关系，但是数值大小的差距较大。\n",
    ">>>> 解释方差得分函数: explained_variance_score()。\n"
   ]
  },
  {
   "cell_type": "code",
   "execution_count": 1,
   "metadata": {
    "lines_to_next_cell": 2
   },
   "outputs": [],
   "source": [
    "import matplotlib.pyplot as plt\n",
    "import numpy as np\n",
    "from sklearn import datasets, linear_model\n",
    "from sklearn.metrics import mean_squared_error, r2_score, explained_variance_score"
   ]
  },
  {
   "cell_type": "code",
   "execution_count": 2,
   "metadata": {
    "lines_to_next_cell": 2
   },
   "outputs": [],
   "source": [
    "# 加载糖尿病数据集\n",
    "diabetes = datasets.load_diabetes()"
   ]
  },
  {
   "cell_type": "code",
   "execution_count": 3,
   "metadata": {
    "lines_to_next_cell": 2
   },
   "outputs": [],
   "source": [
    "# 只使用1个特征\n",
    "diabetes_X = diabetes.data[:, np.newaxis, 2]"
   ]
  },
  {
   "cell_type": "code",
   "execution_count": 4,
   "metadata": {
    "lines_to_next_cell": 2
   },
   "outputs": [],
   "source": [
    "# 划分训练,测试集\n",
    "diabetes_X_train = diabetes_X[:-20]\n",
    "diabetes_X_test = diabetes_X[-20:]\n",
    "\n",
    "diabetes_y_train = diabetes.target[:-20]\n",
    "diabetes_y_test = diabetes.target[-20:]"
   ]
  },
  {
   "cell_type": "code",
   "execution_count": 5,
   "metadata": {
    "lines_to_next_cell": 2
   },
   "outputs": [],
   "source": [
    "# 创建线性回归模型\n",
    "regr = linear_model.LinearRegression()\n",
    "\n",
    "# 训练这个模型\n",
    "regr.fit(diabetes_X_train, diabetes_y_train)\n",
    "\n",
    "# 使用模型做预测\n",
    "diabetes_y_pred = regr.predict(diabetes_X_test)"
   ]
  },
  {
   "cell_type": "code",
   "execution_count": 6,
   "metadata": {},
   "outputs": [
    {
     "name": "stdout",
     "output_type": "stream",
     "text": [
      "回归系数(coef_): [938.23786125]\n",
      "均方误差(MSE): 2548.07\n",
      "判断系数(r2_score): 0.47\n",
      "解释方差得分(explained_variance_score): 0.53\n"
     ]
    }
   ],
   "source": [
    "# 评价预测结果\n",
    "print('回归系数(coef_):', regr.coef_)\n",
    "print(\"均方误差(MSE): %.2f\"% mean_squared_error(diabetes_y_test, diabetes_y_pred))\n",
    "print('判断系数(r2_score): %.2f' % r2_score(diabetes_y_test, diabetes_y_pred))\n",
    "# 额外增加\n",
    "print('解释方差得分(explained_variance_score): %.2f' % explained_variance_score(diabetes_y_test, diabetes_y_pred))"
   ]
  },
  {
   "cell_type": "markdown",
   "metadata": {},
   "source": [
    "    回归系数(coef_): [938.23786125]\n",
    "    均方误差(MSE): 2548.07\n",
    "    判断系数(r2_score): 0.47\n",
    "    解释方差得分(explained_variance_score): 0.53\n"
   ]
  },
  {
   "cell_type": "code",
   "execution_count": 7,
   "metadata": {
    "lines_to_next_cell": 2
   },
   "outputs": [
    {
     "data": {
      "image/png": "[encoded data removed]",
      "text/plain": [
       "<Figure size 432x288 with 1 Axes>"
      ]
     },
     "metadata": {},
     "output_type": "display_data"
    }
   ],
   "source": [
    "# 绘制输出\n",
    "plt.scatter(diabetes_X_test, diabetes_y_test,  color='black')\n",
    "plt.plot(diabetes_X_test, diabetes_y_pred, color='blue', linewidth=3)\n",
    "\n",
    "plt.xticks(())\n",
    "plt.yticks(())\n",
    "\n",
    "plt.show()"
   ]
  },
  {
   "cell_type": "markdown",
   "metadata": {},
   "source": [
    "![png](data:image/png;base64,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)"
   ]
  }
 ],
 "metadata": {
  "jupytext": {
   "cell_metadata_filter": "-all",
   "main_language": "python",
   "notebook_metadata_filter": "-all"
  },
  "kernelspec": {
   "display_name": "Python 3",
   "language": "python",
   "name": "python3"
  },
  "language_info": {
   "codemirror_mode": {
    "name": "ipython",
    "version": 3
   },
   "file_extension": ".py",
   "mimetype": "text/x-python",
   "name": "python",
   "nbconvert_exporter": "python",
   "pygments_lexer": "ipython3",
   "version": "3.6.7"
  }
 },
 "nbformat": 4,
 "nbformat_minor": 4
}
