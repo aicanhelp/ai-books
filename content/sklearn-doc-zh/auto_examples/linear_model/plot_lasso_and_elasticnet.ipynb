{
 "cells": [
  {
   "cell_type": "markdown",
   "metadata": {},
   "source": [
    "\n",
    "# Lasso和Elastic Net(弹性网络)在稀疏信号上的表现\n",
    "\n",
    ">翻译者:[@Loopy](https://github.com/loopyme)        \n",
    ">校验者:[@barrycg](https://github.com/barrycg)\n",
    "\n",
    "评估了Lasso回归模型和弹性网络回归模型在手动生成的，并附加噪声的稀疏信号上的表现，并将回归系数与真实值进行了比较。\n"
   ]
  },
  {
   "cell_type": "code",
   "execution_count": null,
   "metadata": {
    "lines_to_next_cell": 2
   },
   "outputs": [],
   "source": [
    "import numpy as np\n",
    "import matplotlib.pyplot as plt\n",
    "\n",
    "from sklearn.metrics import r2_score\n",
    "\n",
    "# 产生一些稀疏值\n",
    "np.random.seed(42)\n",
    "\n",
    "n_samples, n_features = 50, 100\n",
    "X = np.random.randn(n_samples, n_features)"
   ]
  },
  {
   "cell_type": "code",
   "execution_count": null,
   "metadata": {
    "lines_to_next_cell": 2
   },
   "outputs": [],
   "source": [
    "# 减少交替出现的符号以使其便于可视化\n",
    "idx = np.arange(n_features)\n",
    "coef = (-1) ** idx * np.exp(-idx / 10)\n",
    "coef[10:] = 0  # sparsify coef\n",
    "y = np.dot(X, coef)"
   ]
  },
  {
   "cell_type": "code",
   "execution_count": null,
   "metadata": {
    "lines_to_next_cell": 2
   },
   "outputs": [],
   "source": [
    "# 添加噪音\n",
    "y += 0.01 * np.random.normal(size=n_samples)"
   ]
  },
  {
   "cell_type": "code",
   "execution_count": null,
   "metadata": {
    "lines_to_next_cell": 2
   },
   "outputs": [],
   "source": [
    "# 划分测试,训练集\n",
    "n_samples = X.shape[0]\n",
    "X_train, y_train = X[:n_samples // 2], y[:n_samples // 2]\n",
    "X_test, y_test = X[n_samples // 2:], y[n_samples // 2:]"
   ]
  },
  {
   "cell_type": "code",
   "execution_count": null,
   "metadata": {},
   "outputs": [],
   "source": [
    "# Lasso\n",
    "from sklearn.linear_model import Lasso\n",
    "\n",
    "alpha = 0.1\n",
    "lasso = Lasso(alpha=alpha)\n",
    "\n",
    "y_pred_lasso = lasso.fit(X_train, y_train).predict(X_test)\n",
    "r2_score_lasso = r2_score(y_test, y_pred_lasso)\n",
    "print(lasso)\n",
    "print(\"r^2 on test data : %f\" % r2_score_lasso)"
   ]
  },
  {
   "cell_type": "markdown",
   "metadata": {},
   "source": [
    "    Lasso(alpha=0.1, copy_X=True, fit_intercept=True, max_iter=1000,\n",
    "          normalize=False, positive=False, precompute=False, random_state=None,\n",
    "          selection='cyclic', tol=0.0001, warm_start=False)\n",
    "    r^2 on test data : 0.658064\n",
    "\n"
   ]
  },
  {
   "cell_type": "code",
   "execution_count": null,
   "metadata": {},
   "outputs": [],
   "source": [
    "# 弹性网络(ElasticNet)\n",
    "from sklearn.linear_model import ElasticNet\n",
    "\n",
    "enet = ElasticNet(alpha=alpha, l1_ratio=0.7)\n",
    "\n",
    "y_pred_enet = enet.fit(X_train, y_train).predict(X_test)\n",
    "r2_score_enet = r2_score(y_test, y_pred_enet)\n",
    "print(enet)\n",
    "print(\"r^2 on test data : %f\" % r2_score_enet)"
   ]
  },
  {
   "cell_type": "markdown",
   "metadata": {},
   "source": [
    "    ElasticNet(alpha=0.1, copy_X=True, fit_intercept=True, l1_ratio=0.7,\n",
    "               max_iter=1000, normalize=False, positive=False, precompute=False,\n",
    "               random_state=None, selection='cyclic', tol=0.0001, warm_start=False)\n",
    "    r^2 on test data : 0.642515\n",
    "\n"
   ]
  },
  {
   "cell_type": "code",
   "execution_count": null,
   "metadata": {
    "lines_to_next_cell": 0
   },
   "outputs": [],
   "source": [
    "m, s, _ = plt.stem(np.where(enet.coef_)[0], enet.coef_[enet.coef_ != 0],\n",
    "                   markerfmt='x', label='Elastic net系数')\n",
    "plt.setp([m, s], color=\"#2ca02c\")\n",
    "m, s, _ = plt.stem(np.where(lasso.coef_)[0], lasso.coef_[lasso.coef_ != 0],\n",
    "                   markerfmt='x', label='Lasso系数')\n",
    "plt.setp([m, s], color='#ff7f0e')\n",
    "plt.stem(np.where(coef)[0], coef[coef != 0], label='真实系数',\n",
    "         markerfmt='bx')\n",
    "\n",
    "plt.legend(loc='best')\n",
    "plt.title(\"Lasso $R^2$: %.3f, Elastic Net $R^2$: %.3f\"\n",
    "          % (r2_score_lasso, r2_score_enet))\n",
    "plt.show()"
   ]
  },
  {
   "cell_type": "markdown",
   "metadata": {},
   "source": [
    "\n"
   ]
  },
  {
   "cell_type": "markdown",
   "metadata": {},
   "source": [
    "![png](data:image/png;base64,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)"
   ]
  }
 ],
 "metadata": {
  "jupytext": {
   "cell_metadata_filter": "-all",
   "main_language": "python",
   "notebook_metadata_filter": "-all"
  }
 },
 "nbformat": 4,
 "nbformat_minor": 2
}
