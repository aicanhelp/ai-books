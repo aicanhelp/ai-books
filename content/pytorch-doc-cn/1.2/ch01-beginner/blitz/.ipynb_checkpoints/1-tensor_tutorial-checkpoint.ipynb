{
 "cells": [
  {
   "cell_type": "markdown",
   "metadata": {},
   "source": [
    "# 什么是PyTorch？\n",
    "\n",
    "> 译者：[bat67](https://github.com/bat67)\n",
    ">\n",
    "> 校验者：[FontTian](https://github.com/fonttian)\n",
    "\n",
    "**作者**： [Soumith Chintala](http://soumith.ch/)\n",
    "\n",
    "PyTorch是一个基于python的科学计算包，主要针对两类人群：\n",
    "\n",
    "* 作为NumPy的替代品，可以利用GPU的性能进行计算\n",
    "* 作为一个高灵活性、速度快的深度学习平台\n",
    "\n",
    "## 入门\n",
    "\n",
    "### 张量\n",
    "\n",
    "`Tensor`（张量）类似于`NumPy`的`ndarray`，但还可以在GPU上使用来加速计算。"
   ]
  },
  {
   "cell_type": "code",
   "execution_count": null,
   "metadata": {
    "lines_to_next_cell": 2
   },
   "outputs": [],
   "source": [
    "from __future__ import print_function\n",
    "import torch"
   ]
  },
  {
   "cell_type": "markdown",
   "metadata": {},
   "source": [
    "创建一个没有初始化的5*3矩阵："
   ]
  },
  {
   "cell_type": "code",
   "execution_count": null,
   "metadata": {},
   "outputs": [],
   "source": [
    "x = torch.empty(5, 3)\n",
    "print(x)"
   ]
  },
  {
   "cell_type": "markdown",
   "metadata": {},
   "source": [
    "输出：\n",
    "\n",
    "```\n",
    "tensor([[2.2391e-19, 4.5869e-41, 1.4191e-17],\n",
    "        [4.5869e-41, 0.0000e+00, 0.0000e+00],\n",
    "        [0.0000e+00, 0.0000e+00, 0.0000e+00],\n",
    "        [0.0000e+00, 0.0000e+00, 0.0000e+00],\n",
    "        [0.0000e+00, 0.0000e+00, 0.0000e+00]])\n",
    "```\n",
    "\n",
    "创建一个随机初始化矩阵："
   ]
  },
  {
   "cell_type": "code",
   "execution_count": null,
   "metadata": {},
   "outputs": [],
   "source": [
    "x = torch.rand(5, 3)\n",
    "print(x)"
   ]
  },
  {
   "cell_type": "markdown",
   "metadata": {},
   "source": [
    "输出：\n",
    "\n",
    "```\n",
    "tensor([[0.5307, 0.9752, 0.5376],\n",
    "        [0.2789, 0.7219, 0.1254],\n",
    "        [0.6700, 0.6100, 0.3484],\n",
    "        [0.0922, 0.0779, 0.2446],\n",
    "        [0.2967, 0.9481, 0.1311]])\n",
    "```\n",
    "\n",
    "构造一个填满`0`且数据类型为`long`的矩阵:"
   ]
  },
  {
   "cell_type": "code",
   "execution_count": null,
   "metadata": {},
   "outputs": [],
   "source": [
    "x = torch.zeros(5, 3, dtype=torch.long)\n",
    "print(x)"
   ]
  },
  {
   "cell_type": "markdown",
   "metadata": {},
   "source": [
    "输出：\n",
    "\n",
    "```\n",
    "tensor([[0, 0, 0],\n",
    "        [0, 0, 0],\n",
    "        [0, 0, 0],\n",
    "        [0, 0, 0],\n",
    "        [0, 0, 0]])\n",
    "```\n",
    "\n",
    "直接从数据构造张量："
   ]
  },
  {
   "cell_type": "code",
   "execution_count": null,
   "metadata": {},
   "outputs": [],
   "source": [
    "x = torch.tensor([5.5, 3])\n",
    "print(x)"
   ]
  },
  {
   "cell_type": "markdown",
   "metadata": {},
   "source": [
    "输出：\n",
    "```\n",
    "tensor([5.5000, 3.0000])\n",
    "```\n",
    "\n",
    "或者根据已有的tensor建立新的tensor。除非用户提供新的值，否则这些方法将重用输入张量的属性，例如dtype等："
   ]
  },
  {
   "cell_type": "code",
   "execution_count": null,
   "metadata": {},
   "outputs": [],
   "source": [
    "x = x.new_ones(5, 3, dtype=torch.double)      # new_* methods take in sizes\n",
    "print(x)\n",
    "\n",
    "x = torch.randn_like(x, dtype=torch.float)    # 重载 dtype!\n",
    "print(x)                                      # 结果size一致"
   ]
  },
  {
   "cell_type": "markdown",
   "metadata": {},
   "source": [
    "输出：\n",
    "\n",
    "```\n",
    "tensor([[1., 1., 1.],\n",
    "        [1., 1., 1.],\n",
    "        [1., 1., 1.],\n",
    "        [1., 1., 1.],\n",
    "        [1., 1., 1.]], dtype=torch.float64)\n",
    "tensor([[ 1.6040, -0.6769,  0.0555],\n",
    "        [ 0.6273,  0.7683, -0.2838],\n",
    "        [-0.7159, -0.5566, -0.2020],\n",
    "        [ 0.6266,  0.3566,  1.4497],\n",
    "        [-0.8092, -0.6741,  0.0406]])\n",
    "```\n",
    "\n",
    "获取张量的形状："
   ]
  },
  {
   "cell_type": "code",
   "execution_count": null,
   "metadata": {},
   "outputs": [],
   "source": [
    "print(x.size())"
   ]
  },
  {
   "cell_type": "markdown",
   "metadata": {},
   "source": [
    "输出：\n",
    "\n",
    "```\n",
    "torch.Size([5, 3])\n",
    "```\n",
    "\n",
    "> **注意**：\n",
    ">\n",
    "> `torch.Size`本质上还是`tuple`，所以支持tuple的一切操作。\n"
   ]
  },
  {
   "cell_type": "markdown",
   "metadata": {},
   "source": [
    "### 运算\n",
    "\n",
    "一种运算有多种语法。在下面的示例中，我们将研究加法运算。\n",
    "\n",
    "加法：形式一"
   ]
  },
  {
   "cell_type": "code",
   "execution_count": null,
   "metadata": {},
   "outputs": [],
   "source": [
    "y = torch.rand(5, 3)\n",
    "print(x + y)"
   ]
  },
  {
   "cell_type": "markdown",
   "metadata": {},
   "source": [
    "输出：\n",
    "\n",
    "```\n",
    "tensor([[ 2.5541,  0.0943,  0.9835],\n",
    "        [ 1.4911,  1.3117,  0.5220],\n",
    "        [-0.0078, -0.1161,  0.6687],\n",
    "        [ 0.8176,  1.1179,  1.9194],\n",
    "        [-0.3251, -0.2236,  0.7653]])\n",
    "```"
   ]
  },
  {
   "cell_type": "markdown",
   "metadata": {},
   "source": [
    "加法：形式二"
   ]
  },
  {
   "cell_type": "code",
   "execution_count": null,
   "metadata": {},
   "outputs": [],
   "source": [
    "print(torch.add(x, y))"
   ]
  },
  {
   "cell_type": "markdown",
   "metadata": {},
   "source": [
    "输出：\n",
    "\n",
    "```\n",
    "tensor([[ 2.5541,  0.0943,  0.9835],\n",
    "        [ 1.4911,  1.3117,  0.5220],\n",
    "        [-0.0078, -0.1161,  0.6687],\n",
    "        [ 0.8176,  1.1179,  1.9194],\n",
    "        [-0.3251, -0.2236,  0.7653]])\n",
    "```\n",
    "\n",
    "加法：给定一个输出张量作为参数"
   ]
  },
  {
   "cell_type": "code",
   "execution_count": null,
   "metadata": {},
   "outputs": [],
   "source": [
    "result = torch.empty(5, 3)\n",
    "torch.add(x, y, out=result)\n",
    "print(result)"
   ]
  },
  {
   "cell_type": "markdown",
   "metadata": {},
   "source": [
    "输出：\n",
    "\n",
    "```\n",
    "tensor([[ 2.5541,  0.0943,  0.9835],\n",
    "        [ 1.4911,  1.3117,  0.5220],\n",
    "        [-0.0078, -0.1161,  0.6687],\n",
    "        [ 0.8176,  1.1179,  1.9194],\n",
    "        [-0.3251, -0.2236,  0.7653]])\n",
    "```\n",
    "\n",
    "加法：原位/原地操作（in-place）"
   ]
  },
  {
   "cell_type": "code",
   "execution_count": null,
   "metadata": {},
   "outputs": [],
   "source": [
    "# adds x to y\n",
    "y.add_(x)\n",
    "print(y)"
   ]
  },
  {
   "cell_type": "markdown",
   "metadata": {},
   "source": [
    "输出：\n",
    "\n",
    "```\n",
    "tensor([[ 2.5541,  0.0943,  0.9835],\n",
    "        [ 1.4911,  1.3117,  0.5220],\n",
    "        [-0.0078, -0.1161,  0.6687],\n",
    "        [ 0.8176,  1.1179,  1.9194],\n",
    "        [-0.3251, -0.2236,  0.7653]])\n",
    "```\n",
    "\n",
    ">注意：\n",
    ">\n",
    ">任何一个in-place改变张量的操作后面都固定一个`_`。例如`x.copy_(y)`、`x.t_()`将更改x"
   ]
  },
  {
   "cell_type": "markdown",
   "metadata": {},
   "source": [
    "也可以使用像标准的NumPy一样的各种索引操作："
   ]
  },
  {
   "cell_type": "code",
   "execution_count": null,
   "metadata": {},
   "outputs": [],
   "source": [
    "print(x[:, 1])"
   ]
  },
  {
   "cell_type": "markdown",
   "metadata": {},
   "source": [
    "输出：\n",
    "\n",
    "```\n",
    "tensor([-0.6769,  0.7683, -0.5566,  0.3566, -0.6741])\n",
    "```"
   ]
  },
  {
   "cell_type": "markdown",
   "metadata": {},
   "source": [
    "改变形状：如果想改变形状，可以使用`torch.view`"
   ]
  },
  {
   "cell_type": "code",
   "execution_count": null,
   "metadata": {},
   "outputs": [],
   "source": [
    "x = torch.randn(4, 4)\n",
    "y = x.view(16)\n",
    "z = x.view(-1, 8)  # the size -1 is inferred from other dimensions\n",
    "print(x.size(), y.size(), z.size())"
   ]
  },
  {
   "cell_type": "markdown",
   "metadata": {},
   "source": [
    "输出：\n",
    "\n",
    "```\n",
    "torch.Size([4, 4]) torch.Size([16]) torch.Size([2, 8])\n",
    "```\n",
    "\n",
    "如果是仅包含一个元素的tensor，可以使用`.item()`来得到对应的python数值"
   ]
  },
  {
   "cell_type": "code",
   "execution_count": null,
   "metadata": {},
   "outputs": [],
   "source": [
    "x = torch.randn(1)\n",
    "print(x)\n",
    "print(x.item())"
   ]
  },
  {
   "cell_type": "markdown",
   "metadata": {},
   "source": [
    "输出：\n",
    "```\n",
    "tensor([0.0445])\n",
    "0.0445479191839695\n",
    "```\n",
    "\n",
    ">后续阅读：\n",
    ">\n",
    ">超过100种tensor的运算操作，包括转置，索引，切片，数学运算，\n",
    "线性代数，随机数等，具体访问[这里](https://pytorch.org/docs/stable/torch.html)\n",
    "\n",
    "## 桥接 NumPy\n",
    "\n",
    "将一个Torch张量转换为一个NumPy数组是轻而易举的事情，反之亦然。\n",
    "\n",
    "Torch张量和NumPy数组将共享它们的底层内存位置，因此当一个改变时,另外也会改变。\n",
    "\n",
    "### 将torch的Tensor转化为NumPy数组\n",
    "\n",
    "输入："
   ]
  },
  {
   "cell_type": "code",
   "execution_count": null,
   "metadata": {},
   "outputs": [],
   "source": [
    "a = torch.ones(5)\n",
    "print(a)"
   ]
  },
  {
   "cell_type": "markdown",
   "metadata": {},
   "source": [
    "输出：\n",
    "\n",
    "```\n",
    "tensor([1., 1., 1., 1., 1.])\n",
    "```\n",
    "\n",
    "输入："
   ]
  },
  {
   "cell_type": "code",
   "execution_count": null,
   "metadata": {},
   "outputs": [],
   "source": [
    "b = a.numpy()\n",
    "print(b)"
   ]
  },
  {
   "cell_type": "markdown",
   "metadata": {},
   "source": [
    "输出：\n",
    "\n",
    "```\n",
    "[1. 1. 1. 1. 1.]\n",
    "```"
   ]
  },
  {
   "cell_type": "markdown",
   "metadata": {},
   "source": [
    "看NumPy数组是如何改变里面的值的："
   ]
  },
  {
   "cell_type": "code",
   "execution_count": null,
   "metadata": {},
   "outputs": [],
   "source": [
    "a.add_(1)\n",
    "print(a)\n",
    "print(b)"
   ]
  },
  {
   "cell_type": "markdown",
   "metadata": {},
   "source": [
    "输出：\n",
    "\n",
    "```\n",
    "tensor([2., 2., 2., 2., 2.])\n",
    "[2. 2. 2. 2. 2.]\n",
    "```"
   ]
  },
  {
   "cell_type": "markdown",
   "metadata": {},
   "source": [
    "### 将NumPy数组转化为Torch张量\n",
    "\n",
    "看改变NumPy数组是如何自动改变Torch张量的："
   ]
  },
  {
   "cell_type": "code",
   "execution_count": null,
   "metadata": {},
   "outputs": [],
   "source": [
    "import numpy as np\n",
    "a = np.ones(5)\n",
    "b = torch.from_numpy(a)\n",
    "np.add(a, 1, out=a)\n",
    "print(a)\n",
    "print(b)"
   ]
  },
  {
   "cell_type": "markdown",
   "metadata": {},
   "source": [
    "输出：\n",
    "\n",
    "```\n",
    "[2. 2. 2. 2. 2.]\n",
    "tensor([2., 2., 2., 2., 2.], dtype=torch.float64)\n",
    "```\n",
    "\n",
    "CPU上的所有张量(CharTensor除外)都支持与Numpy的相互转换。\n",
    "\n",
    "## CUDA上的张量\n",
    "\n",
    "张量可以使用`.to`方法移动到任何设备（device）上："
   ]
  },
  {
   "cell_type": "code",
   "execution_count": null,
   "metadata": {},
   "outputs": [],
   "source": [
    "# 当GPU可用时,我们可以运行以下代码\n",
    "# 我们将使用`torch.device`来将tensor移入和移出GPU\n",
    "if torch.cuda.is_available():\n",
    "    device = torch.device(\"cuda\")          # a CUDA device object\n",
    "    y = torch.ones_like(x, device=device)  # 直接在GPU上创建tensor\n",
    "    x = x.to(device)                       # 或者使用`.to(\"cuda\")`方法\n",
    "    z = x + y\n",
    "    print(z)\n",
    "    print(z.to(\"cpu\", torch.double))       # `.to`也能在移动时改变dtype"
   ]
  },
  {
   "cell_type": "markdown",
   "metadata": {},
   "source": [
    "输出：\n",
    "\n",
    "```\n",
    "tensor([1.0445], device='cuda:0')\n",
    "tensor([1.0445], dtype=torch.float64)\n",
    "```"
   ]
  }
 ],
 "metadata": {
  "jupytext": {
   "cell_metadata_filter": "-all",
   "main_language": "python",
   "notebook_metadata_filter": "-all"
  },
  "kernelspec": {
   "display_name": "Python 3",
   "language": "python",
   "name": "python3"
  },
  "language_info": {
   "codemirror_mode": {
    "name": "ipython",
    "version": 3
   },
   "file_extension": ".py",
   "mimetype": "text/x-python",
   "name": "python",
   "nbconvert_exporter": "python",
   "pygments_lexer": "ipython3",
   "version": "3.6.2"
  }
 },
 "nbformat": 4,
 "nbformat_minor": 4
}
