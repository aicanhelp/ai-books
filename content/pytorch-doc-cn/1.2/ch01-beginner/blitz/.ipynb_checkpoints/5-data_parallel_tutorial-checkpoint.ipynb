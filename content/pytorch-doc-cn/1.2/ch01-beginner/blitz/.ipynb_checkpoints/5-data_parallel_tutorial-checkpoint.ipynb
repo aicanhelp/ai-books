{
 "cells": [
  {
   "cell_type": "markdown",
   "metadata": {},
   "source": [
    "# 可选: 数据并行处理\n",
    "\n",
    "> **作者**: [Sung Kim](https://github.com/hunkim)  [Jenny Kang](https://github.com/jennykang)\n",
    ">\n",
    "> 译者: [bat67](https://github.com/bat67)\n",
    ">\n",
    "> 校验者: [FontTian](https://github.com/fonttian)  [片刻](https://github.com/jiangzhonglian)\n",
    "\n",
    "在这个教程里，我们将学习如何使用数据并行（`DataParallel`）来使用多GPU。\n",
    "\n",
    "PyTorch非常容易的就可以使用GPU，可以用如下方式把一个模型放到GPU上: "
   ]
  },
  {
   "cell_type": "code",
   "execution_count": null,
   "metadata": {},
   "outputs": [],
   "source": [
    "device = torch.device(\"cuda: 0\")\n",
    "model.to(device)"
   ]
  },
  {
   "cell_type": "markdown",
   "metadata": {},
   "source": [
    "然后可以复制所有的张量到GPU上: "
   ]
  },
  {
   "cell_type": "code",
   "execution_count": null,
   "metadata": {},
   "outputs": [],
   "source": [
    "mytensor = my_tensor.to(device)"
   ]
  },
  {
   "cell_type": "markdown",
   "metadata": {},
   "source": [
    "请注意，调用`my_tensor.to(device)`返回一个GPU上的`my_tensor`副本，而不是重写`my_tensor`。我们需要把它赋值给一个新的张量并在GPU上使用这个张量。\n",
    "\n",
    "在多GPU上执行前向和反向传播是自然而然的事。然而，PyTorch默认将只是用一个GPU。你可以使用`DataParallel`让模型并行运行来轻易的让你的操作在多个GPU上运行。"
   ]
  },
  {
   "cell_type": "code",
   "execution_count": null,
   "metadata": {},
   "outputs": [],
   "source": [
    "model = nn.DataParallel(model)"
   ]
  },
  {
   "cell_type": "markdown",
   "metadata": {},
   "source": [
    "这是这篇教程背后的核心，我们接下来将更详细的介绍它。\n",
    "\n",
    "## 导入和参数\n",
    "\n",
    "导入PyTorch模块和定义参数。"
   ]
  },
  {
   "cell_type": "code",
   "execution_count": null,
   "metadata": {},
   "outputs": [],
   "source": [
    "import torch\n",
    "import torch.nn as nn\n",
    "from torch.utils.data import Dataset, DataLoader\n",
    "\n",
    "# Parameters 和 DataLoaders\n",
    "input_size = 5\n",
    "output_size = 2\n",
    "\n",
    "batch_size = 30\n",
    "data_size = 100"
   ]
  },
  {
   "cell_type": "markdown",
   "metadata": {},
   "source": [
    "设备（Device）: "
   ]
  },
  {
   "cell_type": "code",
   "execution_count": null,
   "metadata": {},
   "outputs": [],
   "source": [
    "device = torch.device(\"cuda: 0\" if torch.cuda.is_available() else \"cpu\")"
   ]
  },
  {
   "cell_type": "markdown",
   "metadata": {},
   "source": [
    "## 虚拟数据集\n",
    "\n",
    "要制作一个虚拟（随机）数据集，只需实现`__getitem__`。"
   ]
  },
  {
   "cell_type": "code",
   "execution_count": null,
   "metadata": {},
   "outputs": [],
   "source": [
    "class RandomDataset(Dataset):\n",
    "\n",
    "    def __init__(self, size, length):\n",
    "        self.len = length\n",
    "        self.data = torch.randn(length, size)\n",
    "\n",
    "    def __getitem__(self, index):\n",
    "        return self.data[index]\n",
    "\n",
    "    def __len__(self):\n",
    "        return self.len\n",
    "\n",
    "rand_loader = DataLoader(dataset=RandomDataset(input_size, data_size),\n",
    "                         batch_size=batch_size, shuffle=True)"
   ]
  },
  {
   "cell_type": "markdown",
   "metadata": {},
   "source": [
    "## 简单模型\n",
    "\n",
    "作为演示，我们的模型只接受一个输入，执行一个线性操作，然后得到结果。然而，你能在任何模型（CNN，RNN，Capsule Net等）上使用`DataParallel`。\n",
    "\n",
    "我们在模型内部放置了一条打印语句来检测输入和输出向量的大小。请注意批等级为0时打印的内容。"
   ]
  },
  {
   "cell_type": "code",
   "execution_count": null,
   "metadata": {},
   "outputs": [],
   "source": [
    "class Model(nn.Module):\n",
    "    # Our model\n",
    "\n",
    "    def __init__(self, input_size, output_size):\n",
    "        super(Model, self).__init__()\n",
    "        self.fc = nn.Linear(input_size, output_size)\n",
    "\n",
    "    def forward(self, input):\n",
    "        output = self.fc(input)\n",
    "        print(\"\\tIn Model: input size\", input.size(),\n",
    "              \"output size\", output.size())\n",
    "\n",
    "        return output"
   ]
  },
  {
   "cell_type": "markdown",
   "metadata": {},
   "source": [
    "## 创建一个模型和数据并行\n",
    "\n",
    "这是本教程的核心部分。首先，我们需要创建一个模型实例和检测我们是否有多个GPU。如果我们有多个GPU，我们使用`nn.DataParallel`来包装我们的模型。然后通过`model.to(device)`把模型放到GPU上。"
   ]
  },
  {
   "cell_type": "code",
   "execution_count": null,
   "metadata": {},
   "outputs": [],
   "source": [
    "model = Model(input_size, output_size)\n",
    "if torch.cuda.device_count() > 1: \n",
    "  print(\"Let's use\", torch.cuda.device_count(), \"GPUs!\")\n",
    "  # dim = 0 [30, xxx] -> [10, ...], [10, ...], [10, ...] on 3 GPUs\n",
    "  model = nn.DataParallel(model)\n",
    "\n",
    "model.to(device)"
   ]
  },
  {
   "cell_type": "markdown",
   "metadata": {},
   "source": [
    "输出: \n",
    "\n",
    "```\n",
    "Let's use 2 GPUs!\n",
    "```\n",
    "\n",
    "## 运行模型\n",
    "\n",
    "现在我们可以看输入和输出张量的大小。"
   ]
  },
  {
   "cell_type": "code",
   "execution_count": null,
   "metadata": {},
   "outputs": [],
   "source": [
    "for data in rand_loader: \n",
    "    input = data.to(device)\n",
    "    output = model(input)\n",
    "    print(\"Outside: input size\", input.size(),\n",
    "          \"output_size\", output.size())"
   ]
  },
  {
   "cell_type": "markdown",
   "metadata": {},
   "source": [
    "输出: \n",
    "\n",
    "```\n",
    "In Model: input size torch.Size([15, 5]) output size torch.Size([15, 2])\n",
    "        In Model: input size torch.Size([15, 5]) output size torch.Size([15, 2])\n",
    "Outside: input size torch.Size([30, 5]) output_size torch.Size([30, 2])\n",
    "        In Model: input size torch.Size([15, 5]) output size torch.Size([15, 2])\n",
    "        In Model: input size torch.Size([15, 5]) output size torch.Size([15, 2])\n",
    "Outside: input size torch.Size([30, 5]) output_size torch.Size([30, 2])\n",
    "        In Model: input size torch.Size([15, 5]) output size torch.Size([15, 2])\n",
    "        In Model: input size torch.Size([15, 5]) output size torch.Size([15, 2])\n",
    "Outside: input size torch.Size([30, 5]) output_size torch.Size([30, 2])\n",
    "        In Model: input size torch.Size([5, 5]) output size torch.Size([5, 2])\n",
    "        In Model: input size torch.Size([5, 5]) output size torch.Size([5, 2])\n",
    "Outside: input size torch.Size([10, 5]) output_size torch.Size([10, 2])\n",
    "```\n",
    "\n",
    "## 结果\n",
    "\n",
    "当我们对30个输入和输出进行批处理时，我们和期望的一样得到30个输入和30个输出，但是若有多个GPU，会得到如下的结果。\n",
    "\n",
    "### 2个GPU\n",
    "\n",
    "若有2个GPU，将看到: \n",
    "\n",
    "```\n",
    "Let's use 2 GPUs!\n",
    "    In Model: input size torch.Size([15, 5]) output size torch.Size([15, 2])\n",
    "    In Model: input size torch.Size([15, 5]) output size torch.Size([15, 2])\n",
    "Outside: input size torch.Size([30, 5]) output_size torch.Size([30, 2])\n",
    "    In Model: input size torch.Size([15, 5]) output size torch.Size([15, 2])\n",
    "    In Model: input size torch.Size([15, 5]) output size torch.Size([15, 2])\n",
    "Outside: input size torch.Size([30, 5]) output_size torch.Size([30, 2])\n",
    "    In Model: input size torch.Size([15, 5]) output size torch.Size([15, 2])\n",
    "    In Model: input size torch.Size([15, 5]) output size torch.Size([15, 2])\n",
    "Outside: input size torch.Size([30, 5]) output_size torch.Size([30, 2])\n",
    "    In Model: input size torch.Size([5, 5]) output size torch.Size([5, 2])\n",
    "    In Model: input size torch.Size([5, 5]) output size torch.Size([5, 2])\n",
    "Outside: input size torch.Size([10, 5]) output_size torch.Size([10, 2])\n",
    "```\n",
    "\n",
    "### 3个GPU\n",
    "\n",
    "若有3个GPU，将看到: \n",
    "\n",
    "```\n",
    "Let's use 3 GPUs!\n",
    "    In Model: input size torch.Size([10, 5]) output size torch.Size([10, 2])\n",
    "    In Model: input size torch.Size([10, 5]) output size torch.Size([10, 2])\n",
    "    In Model: input size torch.Size([10, 5]) output size torch.Size([10, 2])\n",
    "Outside: input size torch.Size([30, 5]) output_size torch.Size([30, 2])\n",
    "    In Model: input size torch.Size([10, 5]) output size torch.Size([10, 2])\n",
    "    In Model: input size torch.Size([10, 5]) output size torch.Size([10, 2])\n",
    "    In Model: input size torch.Size([10, 5]) output size torch.Size([10, 2])\n",
    "Outside: input size torch.Size([30, 5]) output_size torch.Size([30, 2])\n",
    "    In Model: input size torch.Size([10, 5]) output size torch.Size([10, 2])\n",
    "    In Model: input size torch.Size([10, 5]) output size torch.Size([10, 2])\n",
    "    In Model: input size torch.Size([10, 5]) output size torch.Size([10, 2])\n",
    "Outside: input size torch.Size([30, 5]) output_size torch.Size([30, 2])\n",
    "    In Model: input size torch.Size([4, 5]) output size torch.Size([4, 2])\n",
    "    In Model: input size torch.Size([4, 5]) output size torch.Size([4, 2])\n",
    "    In Model: input size torch.Size([2, 5]) output size torch.Size([2, 2])\n",
    "Outside: input size torch.Size([10, 5]) output_size torch.Size([10, 2])\n",
    "```\n",
    "\n",
    "### 8个GPU\n",
    "\n",
    "若有8个GPU，将看到: \n",
    "\n",
    "```\n",
    "Let's use 8 GPUs!\n",
    "    In Model: input size torch.Size([4, 5]) output size torch.Size([4, 2])\n",
    "    In Model: input size torch.Size([4, 5]) output size torch.Size([4, 2])\n",
    "    In Model: input size torch.Size([2, 5]) output size torch.Size([2, 2])\n",
    "    In Model: input size torch.Size([4, 5]) output size torch.Size([4, 2])\n",
    "    In Model: input size torch.Size([4, 5]) output size torch.Size([4, 2])\n",
    "    In Model: input size torch.Size([4, 5]) output size torch.Size([4, 2])\n",
    "    In Model: input size torch.Size([4, 5]) output size torch.Size([4, 2])\n",
    "    In Model: input size torch.Size([4, 5]) output size torch.Size([4, 2])\n",
    "Outside: input size torch.Size([30, 5]) output_size torch.Size([30, 2])\n",
    "    In Model: input size torch.Size([4, 5]) output size torch.Size([4, 2])\n",
    "    In Model: input size torch.Size([4, 5]) output size torch.Size([4, 2])\n",
    "    In Model: input size torch.Size([4, 5]) output size torch.Size([4, 2])\n",
    "    In Model: input size torch.Size([4, 5]) output size torch.Size([4, 2])\n",
    "    In Model: input size torch.Size([4, 5]) output size torch.Size([4, 2])\n",
    "    In Model: input size torch.Size([4, 5]) output size torch.Size([4, 2])\n",
    "    In Model: input size torch.Size([2, 5]) output size torch.Size([2, 2])\n",
    "    In Model: input size torch.Size([4, 5]) output size torch.Size([4, 2])\n",
    "Outside: input size torch.Size([30, 5]) output_size torch.Size([30, 2])\n",
    "    In Model: input size torch.Size([4, 5]) output size torch.Size([4, 2])\n",
    "    In Model: input size torch.Size([4, 5]) output size torch.Size([4, 2])\n",
    "    In Model: input size torch.Size([4, 5]) output size torch.Size([4, 2])\n",
    "    In Model: input size torch.Size([4, 5]) output size torch.Size([4, 2])\n",
    "    In Model: input size torch.Size([4, 5]) output size torch.Size([4, 2])\n",
    "    In Model: input size torch.Size([4, 5]) output size torch.Size([4, 2])\n",
    "    In Model: input size torch.Size([4, 5]) output size torch.Size([4, 2])\n",
    "    In Model: input size torch.Size([2, 5]) output size torch.Size([2, 2])\n",
    "Outside: input size torch.Size([30, 5]) output_size torch.Size([30, 2])\n",
    "    In Model: input size torch.Size([2, 5]) output size torch.Size([2, 2])\n",
    "    In Model: input size torch.Size([2, 5]) output size torch.Size([2, 2])\n",
    "    In Model: input size torch.Size([2, 5]) output size torch.Size([2, 2])\n",
    "    In Model: input size torch.Size([2, 5]) output size torch.Size([2, 2])\n",
    "    In Model: input size torch.Size([2, 5]) output size torch.Size([2, 2])\n",
    "Outside: input size torch.Size([10, 5]) output_size torch.Size([10, 2])\n",
    "```\n",
    "\n",
    "## 总结\n",
    "\n",
    "`DataParallel`自动的划分数据，并将作业发送到多个GPU上的多个模型。`DataParallel`会在每个模型完成作业后，收集与合并结果然后返回给你。\n",
    "\n",
    "更多信息，请参考: https://pytorch.org/tutorials/beginner/former_torchies/parallelism_tutorial.html"
   ]
  }
 ],
 "metadata": {
  "jupytext": {
   "cell_metadata_filter": "-all",
   "main_language": "python",
   "notebook_metadata_filter": "-all"
  },
  "kernelspec": {
   "display_name": "Python 3",
   "language": "python",
   "name": "python3"
  },
  "language_info": {
   "codemirror_mode": {
    "name": "ipython",
    "version": 3
   },
   "file_extension": ".py",
   "mimetype": "text/x-python",
   "name": "python",
   "nbconvert_exporter": "python",
   "pygments_lexer": "ipython3",
   "version": "3.6.2"
  }
 },
 "nbformat": 4,
 "nbformat_minor": 4
}
