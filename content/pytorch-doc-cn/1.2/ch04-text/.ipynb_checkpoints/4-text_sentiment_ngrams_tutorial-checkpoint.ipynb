{
 "cells": [
  {
   "cell_type": "markdown",
   "metadata": {},
   "source": [
    "# 文本分类与TorchText\n",
    "\n",
    "> 译者：[PengboLiu](https://github.com/apachecn/pytorch-doc-zh/blob/master/docs/1.2/beginner/text_sentiment_ngrams_tutorial.md)\n",
    "> \n",
    "> 校验：[PengboLiu](https://github.com/apachecn/pytorch-doc-zh/blob/master/docs/1.2/beginner/text_sentiment_ngrams_tutorial.md)\n",
    "\n",
    "本教程将说明如何在*torchtext*中使用文本分类数据集，其中包括：\n",
    "\n",
    "    - AG_NEWS,\n",
    "    - SogouNews,\n",
    "    - DBpedia,\n",
    "    - YelpReviewPolarity,\n",
    "    - YelpReviewFull,\n",
    "    - YahooAnswers,\n",
    "    - AmazonReviewPolarity,\n",
    "    - AmazonReviewFull\n",
    "\n",
    "\n",
    "下面的例子显示如何使用*TextClassification*中的数据集训练有监督的文本分类模型。\n",
    "\n",
    "## 以ngrams的方式加载数据\n",
    "\n",
    "使用ngrams可以捕捉句子中有关单词顺序的一些信息。实际上，应用二元语法或三元语法作为单词组可以比仅一个单词组成句子提供更多的好处。一个例子：    \n",
    "\n",
    "    \"load data with ngrams\"\n",
    "    Bi-grams results: \"load data\", \"data with\", \"with ngrams\"\n",
    "    Tri-grams results: \"load data with\", \"data with ngrams\"\n",
    "\n",
    "`TextClassification`数据集支持n元语法方法。如果NGRAMS 设置为2，数据集中的示例文本将是单个单词加上二元语法字符串的列表。\n"
   ]
  },
  {
   "cell_type": "code",
   "execution_count": null,
   "metadata": {},
   "outputs": [],
   "source": [
    "\n",
    "    import torch\n",
    "    import torchtext\n",
    "    from torchtext.datasets import text_classification\n",
    "    NGRAMS = 2\n",
    "    import os\n",
    "    if not os.path.isdir('./.data'):\n",
    "        os.mkdir('./.data')\n",
    "    train_dataset, test_dataset = text_classification.DATASETS['AG_NEWS'](\n",
    "        root='./.data', ngrams=NGRAMS, vocab=None)\n",
    "    BATCH_SIZE = 16\n",
    "    device = torch.device(\"cuda\" if torch.cuda.is_available() else \"cpu\")\n"
   ]
  },
  {
   "cell_type": "markdown",
   "metadata": {},
   "source": [
    "## 定义模型\n",
    "\n",
    "该模型是由[ EmbeddingBag](https://pytorch.org/docs/stable/nn.html?highlight=embeddingbag#torch.nn.EmbeddingBag)层和线性层（参见下图）组成的。\n",
    "\n",
    "`nn.EmbeddingBag`计算“袋”中embeddings的平均值。此处的文本具有不同的长度。nn.EmbeddingBag不需要填充，因为文本长度会以偏移量保存。\n",
    "\n",
    "此外，由于`nn.EmbeddingBag`会动态累积嵌入中的平均值，因此`nn.EmbeddingBag`可以提高性能和存储效率，以处理张量序列。\n",
    "\n",
    "![text_sentiment_ngrams_model](..\\img\\text_sentiment_ngrams_model.png)    "
   ]
  },
  {
   "cell_type": "code",
   "execution_count": null,
   "metadata": {},
   "outputs": [],
   "source": [
    "    import torch.nn as nn\n",
    "    import torch.nn.functional as F\n",
    "    class TextSentiment(nn.Module):\n",
    "        def __init__(self, vocab_size, embed_dim, num_class):\n",
    "            super().__init__()\n",
    "            self.embedding = nn.EmbeddingBag(vocab_size, embed_dim, sparse=True)\n",
    "            self.fc = nn.Linear(embed_dim, num_class)\n",
    "            self.init_weights()\n",
    "    \n",
    "        def init_weights(self):\n",
    "            initrange = 0.5\n",
    "            self.embedding.weight.data.uniform_(-initrange, initrange)\n",
    "            self.fc.weight.data.uniform_(-initrange, initrange)\n",
    "            self.fc.bias.data.zero_()\n",
    "    \n",
    "        def forward(self, text, offsets):\n",
    "            embedded = self.embedding(text, offsets)\n",
    "            return self.fc(embedded)\n"
   ]
  },
  {
   "cell_type": "markdown",
   "metadata": {},
   "source": [
    "## 初始化一个实例\n",
    "\n",
    "AG_NEWS数据集有四个标签，也就是一共有四类。分别如下：\n",
    "\n",
    "    1 : World\n",
    "    2 : Sports\n",
    "    3 : Business\n",
    "    4 : Sci/Tec\n",
    "\n",
    "VOCAB_SIZE等于词汇表的长度（包括单个单词和ngrams）。NUN_CLASS等于标签的数量，在AG_NEWS情况下为4。    \n",
    "\n"
   ]
  },
  {
   "cell_type": "code",
   "execution_count": null,
   "metadata": {},
   "outputs": [],
   "source": [
    "    VOCAB_SIZE = len(train_dataset.get_vocab())\n",
    "    EMBED_DIM = 32\n",
    "    NUN_CLASS = len(train_dataset.get_labels())\n",
    "    model = TextSentiment(VOCAB_SIZE, EMBED_DIM, NUN_CLASS).to(device)\n"
   ]
  },
  {
   "cell_type": "markdown",
   "metadata": {},
   "source": [
    "## 生成批数据的方法\n",
    "\n",
    "由于文本条目的长度不同，因此使用自定义函数`generate_batch（）`被用于生成批量数据和偏移量。该函数在`torch.utils.data.DataLoader`中传递给`collate_fn`在`\n",
    "`。`collate_fn`的输入是batch_size大小的张量列表，`collat​​e_fn`函数把它们打包成一个小规模的批处理（mini-batch）。请注意将`collate_fn`在程序顶层声明。 这样可以确保该功能在每个程序中均可用。\n",
    "\n",
    "原始数据批处理输入中的文本条目打包到一个列表中，并作为单个张量串联在一起，作为`nn.EmbeddingBag`的输入。 偏移量是分解符的张量，表示文本张量中各个序列的起始索引。 Label是一个保存单个文本条目的标签张量。\n",
    "\n"
   ]
  },
  {
   "cell_type": "code",
   "execution_count": null,
   "metadata": {},
   "outputs": [],
   "source": [
    "    def generate_batch(batch):\n",
    "        label = torch.tensor([entry[0] for entry in batch])\n",
    "        text = [entry[1] for entry in batch]\n",
    "        offsets = [0] + [len(entry) for entry in text]\n",
    "        # torch.Tensor.cumsum returns the cumulative sum\n",
    "        # of elements in the dimension dim.\n",
    "        # torch.Tensor([1.0, 2.0, 3.0]).cumsum(dim=0)\n",
    "    \n",
    "        offsets = torch.tensor(offsets[:-1]).cumsum(dim=0)\n",
    "        text = torch.cat(text)\n",
    "        return text, offsets, label\n"
   ]
  },
  {
   "cell_type": "markdown",
   "metadata": {},
   "source": [
    "## 定义功能训练模型和评估结果。\n",
    "\n",
    "建议PyTorch用户使用[torch.utils.data.DataLoader](https://pytorch.org/docs/stable/data.html?highlight=dataloader#torch.utils.data.DataLoader)，它使数据并行加载变得容易（此处有一个[教程](https://pytorch.org/tutorials/beginner/data_loading_tutorial.html)）。 我们在这里使用`DataLoader`加载AG_NEWS数据集并将其发送到模型以进行训练/验证。\n",
    "\n"
   ]
  },
  {
   "cell_type": "code",
   "execution_count": null,
   "metadata": {},
   "outputs": [],
   "source": [
    "    from torch.utils.data import DataLoader\n",
    "    \n",
    "    def train_func(sub_train_):\n",
    "    \n",
    "        # Train the model\n",
    "        train_loss = 0\n",
    "        train_acc = 0\n",
    "        data = DataLoader(sub_train_, batch_size=BATCH_SIZE, shuffle=True,\n",
    "                          collate_fn=generate_batch)\n",
    "        for i, (text, offsets, cls) in enumerate(data):\n",
    "            optimizer.zero_grad()\n",
    "            text, offsets, cls = text.to(device), offsets.to(device), cls.to(device)\n",
    "            output = model(text, offsets)\n",
    "            loss = criterion(output, cls)\n",
    "            train_loss += loss.item()\n",
    "            loss.backward()\n",
    "            optimizer.step()\n",
    "            train_acc += (output.argmax(1) == cls).sum().item()\n",
    "    \n",
    "        # Adjust the learning rate\n",
    "        scheduler.step()\n",
    "    \n",
    "        return train_loss / len(sub_train_), train_acc / len(sub_train_)\n",
    "    \n",
    "    def test(data_):\n",
    "        loss = 0\n",
    "        acc = 0\n",
    "        data = DataLoader(data_, batch_size=BATCH_SIZE, collate_fn=generate_batch)\n",
    "        for text, offsets, cls in data:\n",
    "            text, offsets, cls = text.to(device), offsets.to(device), cls.to(device)\n",
    "            with torch.no_grad():\n",
    "                output = model(text, offsets)\n",
    "                loss = criterion(output, cls)\n",
    "                loss += loss.item()\n",
    "                acc += (output.argmax(1) == cls).sum().item()\n",
    "    \n",
    "        return loss / len(data_), acc / len(data_)\n"
   ]
  },
  {
   "cell_type": "markdown",
   "metadata": {},
   "source": [
    "## 拆分数据集和运行模型\n",
    "\n",
    "由于原始AG_NEWS数据没有验证集，我们用的0.95（训练集）和0.05（验证集）的比例分割训练数据集。在这里，我们使用PyTorch核心库中的[torch.utils.data.dataset.random_split](https://pytorch.org/docs/stable/data.html?highlight=random_split#torch.utils.data.random_split)函数。\n",
    "\n",
    "[ CrossEntropyLoss](https://pytorch.org/docs/stable/nn.html?highlight=crossentropyloss#torch.nn.CrossEntropyLoss)将nn.LogSoftmax（）和nn.NLLLoss（）合并到一个类中。在训练多分类模型时很有用。 [ SGD](https://pytorch.org/docs/stable/_modules/torch/optim/sgd.html)将随机梯度下降方法用作优化程序。 初始学习率设置为4.0。[ StepLR](https://pytorch.org/docs/master/_modules/torch/optim/lr_scheduler.html#StepLR)用于每轮调整学习率。"
   ]
  },
  {
   "cell_type": "code",
   "execution_count": null,
   "metadata": {},
   "outputs": [],
   "source": [
    "    import time\n",
    "    from torch.utils.data.dataset import random_split\n",
    "    N_EPOCHS = 5\n",
    "    min_valid_loss = float('inf')\n",
    "    \n",
    "    criterion = torch.nn.CrossEntropyLoss().to(device)\n",
    "    optimizer = torch.optim.SGD(model.parameters(), lr=4.0)\n",
    "    scheduler = torch.optim.lr_scheduler.StepLR(optimizer, 1, gamma=0.9)\n",
    "    \n",
    "    train_len = int(len(train_dataset) * 0.95)\n",
    "    sub_train_, sub_valid_ = \\\n",
    "        random_split(train_dataset, [train_len, len(train_dataset) - train_len])\n",
    "    \n",
    "    for epoch in range(N_EPOCHS):\n",
    "    \n",
    "        start_time = time.time()\n",
    "        train_loss, train_acc = train_func(sub_train_)\n",
    "        valid_loss, valid_acc = test(sub_valid_)\n",
    "    \n",
    "        secs = int(time.time() - start_time)\n",
    "        mins = secs / 60\n",
    "        secs = secs % 60\n",
    "    \n",
    "        print('Epoch: %d' %(epoch + 1), \" | time in %d minutes, %d seconds\" %(mins, secs))\n",
    "        print(f'\\tLoss: {train_loss:.4f}(train)\\t|\\tAcc: {train_acc * 100:.1f}%(train)')\n",
    "        print(f'\\tLoss: {valid_loss:.4f}(valid)\\t|\\tAcc: {valid_acc * 100:.1f}%(valid)')\n"
   ]
  },
  {
   "cell_type": "markdown",
   "metadata": {},
   "source": [
    "输出：\n",
    "\n",
    "    Epoch: 1  | time in 0 minutes, 8 seconds\n",
    "            Loss: 0.0261(train)     |       Acc: 84.8%(train)\n",
    "            Loss: 0.0000(valid)     |       Acc: 90.4%(valid)\n",
    "    Epoch: 2  | time in 0 minutes, 8 seconds\n",
    "            Loss: 0.0120(train)     |       Acc: 93.5%(train)\n",
    "            Loss: 0.0000(valid)     |       Acc: 91.2%(valid)\n",
    "    Epoch: 3  | time in 0 minutes, 8 seconds\n",
    "            Loss: 0.0070(train)     |       Acc: 96.4%(train)\n",
    "            Loss: 0.0000(valid)     |       Acc: 90.8%(valid)\n",
    "    Epoch: 4  | time in 0 minutes, 8 seconds\n",
    "            Loss: 0.0039(train)     |       Acc: 98.1%(train)\n",
    "            Loss: 0.0001(valid)     |       Acc: 91.0%(valid)\n",
    "    Epoch: 5  | time in 0 minutes, 8 seconds\n",
    "            Loss: 0.0023(train)     |       Acc: 99.0%(train)\n",
    "            Loss: 0.0001(valid)     |       Acc: 90.9%(valid)\n",
    "\n",
    "\n",
    "运行在GPU上的相关信息：\n",
    "\n",
    "Epoch：1 |时间为0分钟，11秒"
   ]
  },
  {
   "cell_type": "markdown",
   "metadata": {},
   "source": [
    "​    \n",
    "​    Loss: 0.0263(train)     |       Acc: 84.5%(train)\n",
    "​    Loss: 0.0001(valid)     |       Acc: 89.0%(valid)"
   ]
  },
  {
   "cell_type": "markdown",
   "metadata": {},
   "source": [
    "Epoch：2 |时间0分钟，10秒"
   ]
  },
  {
   "cell_type": "markdown",
   "metadata": {},
   "source": [
    "​    \n",
    "​    Loss: 0.0119(train)     |       Acc: 93.6%(train)\n",
    "​    Loss: 0.0000(valid)     |       Acc: 89.6%(valid)"
   ]
  },
  {
   "cell_type": "markdown",
   "metadata": {},
   "source": [
    "Epoch：3 |时间0分钟，9秒"
   ]
  },
  {
   "cell_type": "markdown",
   "metadata": {},
   "source": [
    "​    \n",
    "​    Loss: 0.0069(train)     |       Acc: 96.4%(train)\n",
    "​    Loss: 0.0000(valid)     |       Acc: 90.5%(valid)"
   ]
  },
  {
   "cell_type": "markdown",
   "metadata": {},
   "source": [
    "Epoch：4 |时间为0分钟，11秒"
   ]
  },
  {
   "cell_type": "markdown",
   "metadata": {},
   "source": [
    "​    \n",
    "​    Loss: 0.0038(train)     |       Acc: 98.2%(train)\n",
    "​    Loss: 0.0000(valid)     |       Acc: 90.4%(valid)"
   ]
  },
  {
   "cell_type": "markdown",
   "metadata": {},
   "source": [
    "Epoch：5 |时间为0分钟，11秒"
   ]
  },
  {
   "cell_type": "markdown",
   "metadata": {},
   "source": [
    "​    \n",
    "​    Loss: 0.0022(train)     |       Acc: 99.0%(train)\n",
    "​    Loss: 0.0000(valid)     |       Acc: 91.0%(valid)"
   ]
  },
  {
   "cell_type": "markdown",
   "metadata": {},
   "source": [
    "## 使用测试数据集评估模型\n"
   ]
  },
  {
   "cell_type": "code",
   "execution_count": null,
   "metadata": {
    "lines_to_next_cell": 2
   },
   "outputs": [],
   "source": [
    "print('Checking the results of test dataset...')\n",
    "test_loss, test_acc = test(test_dataset)\n",
    "print(f'\\tLoss: {test_loss:.4f}(test)\\t|\\tAcc: {test_acc * 100:.1f}%(test)')"
   ]
  },
  {
   "cell_type": "markdown",
   "metadata": {},
   "source": [
    "Out:\n",
    "\n",
    "    Checking the results of test dataset...\n",
    "            Loss: 0.0002(test)      |       Acc: 89.3%(test)\n",
    "\n",
    "\n",
    "检查测试数据集的结果...\n",
    "\n",
    "    Loss: 0.0237(test)      |       Acc: 90.5%(test)\n",
    "\n",
    "\n",
    "## 在随机新闻上测试"
   ]
  },
  {
   "cell_type": "markdown",
   "metadata": {},
   "source": [
    "使用到目前为止最好的模型并测试高尔夫新闻。标签信息在[这里](https://pytorch.org/text/datasets.html?highlight=ag_news#torchtext.datasets.AG_NEWS)可用。"
   ]
  },
  {
   "cell_type": "code",
   "execution_count": null,
   "metadata": {},
   "outputs": [],
   "source": [
    "    import re\n",
    "    from torchtext.data.utils import ngrams_iterator\n",
    "    from torchtext.data.utils import get_tokenizer\n",
    "    \n",
    "    ag_news_label = {1 : \"World\",\n",
    "                     2 : \"Sports\",\n",
    "                     3 : \"Business\",\n",
    "                     4 : \"Sci/Tec\"}\n",
    "    \n",
    "    def predict(text, model, vocab, ngrams):\n",
    "        tokenizer = get_tokenizer(\"basic_english\")\n",
    "        with torch.no_grad():\n",
    "            text = torch.tensor([vocab[token]\n",
    "                                for token in ngrams_iterator(tokenizer(text), ngrams)])\n",
    "            output = model(text, torch.tensor([0]))\n",
    "            return output.argmax(1).item() + 1\n",
    "    \n",
    "    ex_text_str = \"MEMPHIS, Tenn. – Four days ago, Jon Rahm was \\\n",
    "        enduring the season’s worst weather conditions on Sunday at The \\\n",
    "        Open on his way to a closing 75 at Royal Portrush, which \\\n",
    "        considering the wind and the rain was a respectable showing. \\\n",
    "        Thursday’s first round at the WGC-FedEx St. Jude Invitational \\\n",
    "        was another story. With temperatures in the mid-80s and hardly any \\\n",
    "        wind, the Spaniard was 13 strokes better in a flawless round. \\\n",
    "        Thanks to his best putting performance on the PGA Tour, Rahm \\\n",
    "        finished with an 8-under 62 for a three-stroke lead, which \\\n",
    "        was even more impressive considering he’d never played the \\\n",
    "        front nine at TPC Southwind.\"\n",
    "    \n",
    "    vocab = train_dataset.get_vocab()\n",
    "    model = model.to(\"cpu\")\n",
    "    \n",
    "    print(\"This is a %s news\" %ag_news_label[predict(ex_text_str, model, vocab, 2)])\n"
   ]
  },
  {
   "cell_type": "markdown",
   "metadata": {},
   "source": [
    "Out:\n",
    "\n",
    "    This is a Sports news\n",
    "\n",
    "\n",
    "这是一个体育新闻\n",
    "\n",
    "你可以在[此处](https://github.com/pytorch/text/tree/master/examples/text_classification)找到对应的代码示例。\n",
    "\n",
    "**脚本的总运行时间：** （1分钟26.424秒）"
   ]
  }
 ],
 "metadata": {
  "jupytext": {
   "cell_metadata_filter": "-all",
   "main_language": "python",
   "notebook_metadata_filter": "-all"
  },
  "kernelspec": {
   "display_name": "Python 3",
   "language": "python",
   "name": "python3"
  },
  "language_info": {
   "codemirror_mode": {
    "name": "ipython",
    "version": 3
   },
   "file_extension": ".py",
   "mimetype": "text/x-python",
   "name": "python",
   "nbconvert_exporter": "python",
   "pygments_lexer": "ipython3",
   "version": "3.6.7"
  }
 },
 "nbformat": 4,
 "nbformat_minor": 4
}
