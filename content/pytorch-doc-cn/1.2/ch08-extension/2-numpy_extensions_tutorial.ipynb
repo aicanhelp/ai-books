{
 "cells": [
  {
   "cell_type": "markdown",
   "metadata": {},
   "source": [
    "# 用 numpy 和 scipy 创建扩展\n",
    "\n",
    "> **作者** ：[Adam Paszke](https://github.com/apaszke)\n",
    ">\n",
    ">**修订者**: [Adam Dziedzic](https://github.com/adam-dziedzic)\n",
    ">\n",
    "> 译者：[Foxerlee](https://github.com/FoxerLee)、[cangyunye](https://github.com/cangyunye)\n",
    "> \n",
    "> 校验：[Foxerlee](https://github.com/FoxerLee)、[FontTian](https://github.com/fonttian)\n",
    "\n",
    "在本教程中，我们需要完成两个任务：\n",
    "\n",
    "1. 创建一个无参数神经网络层。\n",
    "\t- 这里需要调用 **numpy** 包作为实现的一部分。\n",
    "\n",
    "2.  创建一个权重自主优化的神经网络层。\n",
    "\t- 这里需要调用 **Scipy** 包作为实现的一部分。"
   ]
  },
  {
   "cell_type": "code",
   "execution_count": null,
   "metadata": {},
   "outputs": [],
   "source": [
    "import torch\n",
    "from torch.autograd import Function\n"
   ]
  },
  {
   "cell_type": "markdown",
   "metadata": {},
   "source": [
    "## 无参数神经网络层示例\n",
    "\n",
    "该层并没有做任何有用的或数学上正确的事情。\n",
    "\n",
    "它只是被恰当的命名为 BadFFTFunction\n",
    "\n",
    "**本层的实现方式**"
   ]
  },
  {
   "cell_type": "code",
   "execution_count": null,
   "metadata": {},
   "outputs": [],
   "source": [
    "from numpy.fft import rfft2, irfft2\n",
    "\n",
    "class BadFFTFunction(Function):\n",
    "\n",
    "    def forward(self, input):\n",
    "        numpy_input = input.detach().numpy()\n",
    "        result = abs(rfft2(numpy_input))\n",
    "        return input.new(result)\n",
    "\n",
    "    def backward(self, grad_output):\n",
    "        numpy_go = grad_output.numpy()\n",
    "        result = irfft2(numpy_go)\n",
    "        return grad_output.new(result)\n",
    "\n",
    "# 由于本层没有任何参数，我们可以简单的声明为一个函数，\n",
    "# 而不是当做 nn.Module 类\n",
    "\n",
    "def incorrect_fft(input):\n",
    "    return BadFFTFunction()(input)\n"
   ]
  },
  {
   "cell_type": "markdown",
   "metadata": {},
   "source": [
    "**创建无参数神经网络层的示例方法:**"
   ]
  },
  {
   "cell_type": "code",
   "execution_count": null,
   "metadata": {},
   "outputs": [],
   "source": [
    "input = torch.randn(8, 8, requires_grad=True)\n",
    "result = incorrect_fft(input)\n",
    "print(result)\n",
    "result.backward(torch.randn(result.size()))\n",
    "print(input)\n"
   ]
  },
  {
   "cell_type": "markdown",
   "metadata": {},
   "source": [
    "输出:"
   ]
  },
  {
   "cell_type": "code",
   "execution_count": null,
   "metadata": {},
   "outputs": [],
   "source": [
    "tensor([[ 0.4073, 11.6080,  7.4098, 18.1538,  3.4384],\n",
    "        [ 4.9980,  3.5935,  6.9132,  3.8621,  6.1521],\n",
    "        [ 5.2876,  6.2480,  9.3535,  5.1881,  9.5353],\n",
    "        [ 4.5351,  2.3523,  6.9937,  4.2700,  2.6574],\n",
    "        [ 0.7658,  7.8288,  3.9512,  5.2703, 15.0991],\n",
    "        [ 4.5351,  4.9517,  7.7959, 17.9770,  2.6574],\n",
    "        [ 5.2876, 11.0435,  4.1705,  0.9899,  9.5353],\n",
    "        [ 4.9980, 11.1055,  5.8031,  3.1775,  6.1521]],\n",
    "       grad_fn=<BadFFTFunctionBackward>)\n",
    "tensor([[-1.4503, -0.6550,  0.0648,  0.2886,  1.9357, -1.2299, -1.7474,  0.6866],\n",
    "        [-0.2466, -1.0292,  0.3109, -0.4289, -0.3620,  1.1854, -1.3372, -0.2717],\n",
    "        [ 0.0828,  0.9115,  0.7877, -0.5776,  1.6676, -0.5576, -0.2321, -0.3273],\n",
    "        [ 0.1632,  0.3835,  0.5422, -0.9144,  0.2871,  0.1441, -1.8333,  1.4951],\n",
    "        [-0.2183, -0.5220,  0.9151,  0.0540, -1.0642,  0.4409,  0.7906, -1.2262],\n",
    "        [ 0.4039,  0.3374,  1.0567, -0.8190,  0.7870, -0.6152, -0.2887,  1.3878],\n",
    "        [ 1.6407,  0.0220,  1.4984, -1.9722,  0.3797, -0.0180, -0.7096, -0.2454],\n",
    "        [ 0.7194,  2.3345, -0.0780, -0.2043, -0.4576, -0.9087, -2.4926,  0.9283]],\n",
    "       requires_grad=True)\n"
   ]
  },
  {
   "cell_type": "markdown",
   "metadata": {},
   "source": [
    "## 参数化示例\n",
    "\n",
    "在深度学习的文献中，这一层被误解的称作卷积 `convolution`，尽管该层的实际操作是交叉-关联性 `cross-correlation` (唯一的区别是滤波器 `filter` 是为了卷积而翻转，而不是为了交叉关联)。\n",
    "\n",
    "本层的可自优化权重的实现，依赖于交叉-关联 `cross-correlation` 一个表示权重的滤波器。\n",
    "\n",
    "后向传播函数 `backward` 计算的是输入数据的梯度以及滤波器的梯度。"
   ]
  },
  {
   "cell_type": "code",
   "execution_count": null,
   "metadata": {
    "lines_to_next_cell": 2
   },
   "outputs": [],
   "source": [
    "from numpy import flip\n",
    "import numpy as np\n",
    "from scipy.signal import convolve2d, correlate2d\n",
    "from torch.nn.modules.module import Module\n",
    "from torch.nn.parameter import Parameter\n",
    "\n",
    "\n",
    "class ScipyConv2dFunction(Function):\n",
    "    @staticmethod\n",
    "    def forward(ctx, input, filter, bias):\n",
    "        # detach so we can cast to NumPy\n",
    "        input, filter, bias = input.detach(), filter.detach(), bias.detach()\n",
    "        result = correlate2d(input.numpy(), filter.numpy(), mode='valid')\n",
    "        result += bias.numpy()\n",
    "        ctx.save_for_backward(input, filter, bias)\n",
    "        return torch.as_tensor(result, dtype=input.dtype)\n",
    "\n",
    "    @staticmethod\n",
    "    def backward(ctx, grad_output):\n",
    "        grad_output = grad_output.detach()\n",
    "        input, filter, bias = ctx.saved_tensors\n",
    "        grad_output = grad_output.numpy()\n",
    "        grad_bias = np.sum(grad_output, keepdims=True)\n",
    "        grad_input = convolve2d(grad_output, filter.numpy(), mode='full')\n",
    "        # the previous line can be expressed equivalently as:\n",
    "        # grad_input = correlate2d(grad_output, flip(flip(filter.numpy(), axis=0), axis=1), mode='full')\n",
    "        grad_filter = correlate2d(input.numpy(), grad_output, mode='valid')\n",
    "        return torch.from_numpy(grad_input), torch.from_numpy(grad_filter).to(torch.float), torch.from_numpy(grad_bias).to(torch.float)\n",
    "\n",
    "\n",
    "class ScipyConv2d(Module):\n",
    "    def __init__(self, filter_width, filter_height):\n",
    "        super(ScipyConv2d, self).__init__()\n",
    "        self.filter = Parameter(torch.randn(filter_width, filter_height))\n",
    "        self.bias = Parameter(torch.randn(1, 1))\n",
    "\n",
    "    def forward(self, input):\n",
    "        return ScipyConv2dFunction.apply(input, self.filter, self.bias)"
   ]
  },
  {
   "cell_type": "markdown",
   "metadata": {},
   "source": [
    "**示例:**"
   ]
  },
  {
   "cell_type": "code",
   "execution_count": null,
   "metadata": {},
   "outputs": [],
   "source": [
    "module = ScipyConv2d(3, 3)\n",
    "print(\"Filter and bias: \", list(module.parameters()))\n",
    "input = torch.randn(10, 10, requires_grad=True)\n",
    "output = module(input)\n",
    "print(\"Output from the convolution: \", output)\n",
    "output.backward(torch.randn(8, 8))\n",
    "print(\"Gradient for the input map: \", input.grad)\n"
   ]
  },
  {
   "cell_type": "markdown",
   "metadata": {},
   "source": [
    "输出："
   ]
  },
  {
   "cell_type": "code",
   "execution_count": null,
   "metadata": {},
   "outputs": [],
   "source": [
    "Filter and bias:  [Parameter containing:\n",
    "tensor([[ 0.6693, -0.2222,  0.4118],\n",
    "        [-0.3676, -0.9931,  0.2691],\n",
    "        [-0.1429,  1.8659, -0.7335]], requires_grad=True), Parameter containing:\n",
    "tensor([[-1.3466]], requires_grad=True)]\n",
    "Output from the convolution:  tensor([[ 0.5250, -4.8840, -0.5804, -0.4413, -0.2209, -5.1590, -2.2587, -3.5415],\n",
    "        [ 0.1437, -3.4806,  2.8613, -2.5486, -0.6023,  0.8587,  0.6923, -3.9129],\n",
    "        [-6.2535,  2.7522, -2.5025,  0.0493, -3.2200,  1.2887, -2.4957,  1.6669],\n",
    "        [ 1.6953, -0.9312, -4.6079, -0.9992, -1.4760,  0.2594, -3.8285, -2.9756],\n",
    "        [ 1.2716, -5.1037, -0.2461, -1.1965, -1.6461, -0.6712, -3.1600, -0.9869],\n",
    "        [-2.0643, -1.1037,  1.0145, -0.4984,  1.6899, -1.2842, -3.5010,  0.8348],\n",
    "        [-2.6977,  0.7242, -5.2932, -2.1470, -4.0301, -2.8247, -1.4165,  0.0572],\n",
    "        [-1.1560,  0.8500, -3.5242,  0.0686, -1.9708,  0.8417,  2.1091, -4.5537]],\n",
    "       grad_fn=<ScipyConv2dFunctionBackward>)\n",
    "Gradient for the input map:  tensor([[ 0.2475, -1.0357,  0.9908, -1.5128,  0.9041,  0.0582, -0.5316,  1.0466,\n",
    "         -0.4844,  0.2972],\n",
    "        [-1.5626,  1.4143, -0.3199, -0.9362,  1.0149, -1.6612, -0.1623,  1.0273,\n",
    "         -0.8157,  0.4636],\n",
    "        [ 1.1604,  2.5787, -5.6081,  4.6548, -2.7051,  1.4152,  1.0695, -5.0619,\n",
    "          1.9227, -1.4557],\n",
    "        [ 0.8890, -5.4601,  5.3478,  0.3287, -3.0955,  1.7628,  1.3722,  0.9022,\n",
    "          4.6063, -1.7763],\n",
    "        [ 0.4180, -1.4749,  1.9056, -6.5754,  1.1695, -0.3068, -2.7579, -1.2399,\n",
    "         -3.2611,  1.7447],\n",
    "        [-1.5550,  1.0767,  0.5541,  0.5231,  3.7888, -2.4053,  0.4745,  4.5228,\n",
    "         -5.2254,  0.7871],\n",
    "        [ 0.8094,  5.9939, -4.4974,  1.9711, -4.6029, -0.7072,  0.8058, -1.0656,\n",
    "          1.7967, -0.5905],\n",
    "        [-1.1218, -4.8356, -3.5650,  2.0387,  0.6232,  1.4451,  0.9014, -1.1660,\n",
    "         -0.5986,  0.7368],\n",
    "        [ 0.4346,  3.4302,  5.3058, -3.0440,  1.0593, -3.6538, -1.7829, -0.0543,\n",
    "         -0.4385,  0.2770],\n",
    "        [ 0.2144, -2.5117, -2.6153,  1.1894, -0.6176,  1.9013, -0.7186,  0.4952,\n",
    "          0.6256, -0.3308]])\n"
   ]
  },
  {
   "cell_type": "markdown",
   "metadata": {},
   "source": [
    "**检查梯度:**"
   ]
  },
  {
   "cell_type": "code",
   "execution_count": null,
   "metadata": {},
   "outputs": [],
   "source": [
    "from torch.autograd.gradcheck import gradcheck\n",
    "\n",
    "moduleConv = ScipyConv2d(3, 3)\n",
    "\n",
    "input = [torch.randn(20, 20, dtype=torch.double, requires_grad=True)]\n",
    "test = gradcheck(moduleConv, input, eps=1e-6, atol=1e-4)\n",
    "print(\"Are the gradients correct: \", test)\n"
   ]
  },
  {
   "cell_type": "markdown",
   "metadata": {},
   "source": [
    "输出："
   ]
  },
  {
   "cell_type": "code",
   "execution_count": null,
   "metadata": {},
   "outputs": [],
   "source": [
    "Are the gradients correct:  True\n"
   ]
  },
  {
   "cell_type": "markdown",
   "metadata": {},
   "source": [
    "脚本的总运行时间：（0分钟 4.128秒）"
   ]
  }
 ],
 "metadata": {
  "jupytext": {
   "cell_metadata_filter": "-all",
   "main_language": "python",
   "notebook_metadata_filter": "-all"
  }
 },
 "nbformat": 4,
 "nbformat_minor": 2
}
