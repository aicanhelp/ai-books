{
 "cells": [
  {
   "cell_type": "markdown",
   "metadata": {},
   "source": []
  },
  {
   "cell_type": "markdown",
   "metadata": {},
   "source": [
    "# torchvision.models\n",
    "\n",
    "> 译者：[BXuan694](https://github.com/BXuan694)\n",
    "\n",
    "models子包定义了以下模型架构：\n",
    "\n",
    "*   [AlexNet](https://arxiv.org/abs/1404.5997)\n",
    "*   [VGG](https://arxiv.org/abs/1409.1556)\n",
    "*   [ResNet](https://arxiv.org/abs/1512.03385)\n",
    "*   [SqueezeNet](https://arxiv.org/abs/1602.07360)\n",
    "*   [DenseNet](https://arxiv.org/abs/1608.06993)\n",
    "*   [Inception](https://arxiv.org/abs/1512.00567) v3\n",
    "\n",
    "你可以通过调用以下构造函数构造随机权重的模型：\n",
    "\n",
    "```py\n",
    "import torchvision.models as models\n",
    "resnet18 = models.resnet18()\n",
    "alexnet = models.alexnet()\n",
    "vgg16 = models.vgg16()\n",
    "squeezenet = models.squeezenet1_0()\n",
    "densenet = models.densenet161()\n",
    "inception = models.inception_v3()\n",
    "\n",
    "```\n",
    "\n",
    "我们在[`torch.utils.model_zoo`](../model_zoo.html#module-torch.utils.model_zoo \"torch.utils.model_zoo\")中提供了预训练模型。预训练模型可以通过传递参数`pretrained=True`构造：\n",
    "\n",
    "```py\n",
    "import torchvision.models as models\n",
    "resnet18 = models.resnet18(pretrained=True)\n",
    "alexnet = models.alexnet(pretrained=True)\n",
    "squeezenet = models.squeezenet1_0(pretrained=True)\n",
    "vgg16 = models.vgg16(pretrained=True)\n",
    "densenet = models.densenet161(pretrained=True)\n",
    "inception = models.inception_v3(pretrained=True)\n",
    "\n",
    "```\n",
    "\n",
    "定义预训练模型时会把权值下载到一个缓存文件夹中，这个缓存文件可以通过环境变量`TORCH_MODEL_ZOO`来指定。更多细节见[`torch.utils.model_zoo.load_url()`](../model_zoo.html#torch.utils.model_zoo.load_url \"torch.utils.model_zoo.load_url\")。\n",
    "\n",
    "有些模型在训练和测试阶段用到了不同的模块，例如批标准化（batch normalization）。使用`model.train()`或`model.eval()`可以切换到相应的模式。更多细节见[`train()`](../nn.html#torch.nn.Module.train \"torch.nn.Module.train\")或[`eval()`](../nn.html#torch.nn.Module.eval \"torch.nn.Module.eval\")。\n",
    "\n",
    "所有的预训练模型都要求输入图片以相同的方式进行标准化，即：小批（mini-batch）三通道RGB格式（3 x H x W），其中H和W不得小于224。图片加载时像素值的范围应在[0, 1]内，然后通过指定`mean = [0.485, 0.456, 0.406]`和`std = [0.229, 0.224, 0.225]`进行标准化，例如：\n",
    "\n",
    "```py\n",
    "normalize = transforms.Normalize(mean=[0.485, 0.456, 0.406],\n",
    "                                 std=[0.229, 0.224, 0.225])\n",
    "\n",
    "```\n",
    "\n",
    "在[imagenet的示例](https://github.com/pytorch/examples/blob/42e5b996718797e45c46a25c55b031e6768f8440/imagenet/main.py#L89-L101)中可以看到标准化的一个应用。\n",
    "\n",
    "下表是ImageNet单次224x224中心裁剪的错误率。\n",
    "\n",
    "| 网络 | Top-1错误率（%） | Top-5错误率（%） |\n",
    "| --- | --- | --- |\n",
    "| AlexNet | 43.45 | 20.91 |\n",
    "| VGG-11 | 30.98 | 11.37 |\n",
    "| VGG-13 | 30.07 | 10.75 |\n",
    "| VGG-16 | 28.41 | 9.62 |\n",
    "| VGG-19 | 27.62 | 9.12 |\n",
    "| 带有批标准化的VGG-11 | 29.62 | 10.19 |\n",
    "| 带有批标准化的VGG-13 | 28.45 | 9.63 |\n",
    "| 带有批标准化的VGG-16 | 26.63 | 8.50 |\n",
    "| 带有批标准化的VGG-19 | 25.76 | 8.15 |\n",
    "| ResNet-18 | 30.24 | 10.92 |\n",
    "| ResNet-34 | 26.70 | 8.58 |\n",
    "| ResNet-50 | 23.85 | 7.13 |\n",
    "| ResNet-101 | 22.63 | 6.44 |\n",
    "| ResNet-152 | 21.69 | 5.94 |\n",
    "| SqueezeNet 1.0 | 41.90 | 19.58 |\n",
    "| SqueezeNet 1.1 | 41.81 | 19.38 |\n",
    "| Densenet-121 | 25.35 | 7.83 |\n",
    "| Densenet-169 | 24.00 | 7.00 |\n",
    "| Densenet-201 | 22.80 | 6.43 |\n",
    "| Densenet-161 | 22.35 | 6.20 |\n",
    "| Inception v3 | 22.55 | 6.44 |\n",
    "\n",
    "## Alexnet\n",
    "\n",
    "```py\n",
    "torchvision.models.alexnet(pretrained=False, **kwargs)\n",
    "```\n",
    "\n",
    "AlexNet模型，参见论文[《One weird trick…》](https://arxiv.org/abs/1404.5997) 。"
   ]
  },
  {
   "cell_type": "markdown",
   "metadata": {},
   "source": [
    "| 参数： | **pretrained** ([_bool_](https://docs.python.org/3/library/functions.html#bool \"(in Python v3.7)\")) – 如果设置为True，返回ImageNet预训练模型 |\n",
    "| --- | --- |\n",
    "\n",
    "## VGG\n",
    "\n",
    "```py\n",
    "torchvision.models.vgg11(pretrained=False, **kwargs)\n",
    "```\n",
    "\n",
    "VGG11模型。（论文中的“A”模型）"
   ]
  },
  {
   "cell_type": "markdown",
   "metadata": {},
   "source": [
    "| 参数： | **pretrained** ([_bool_](https://docs.python.org/3/library/functions.html#bool \"(in Python v3.7)\")) – 如果设置为True，返回ImageNet预训练模型 |\n",
    "| --- | --- |\n",
    "\n",
    "```py\n",
    "torchvision.models.vgg11_bn(pretrained=False, **kwargs)\n",
    "```\n",
    "\n",
    "VGG11模型，带有批标准化。（论文中的“A”模型）"
   ]
  },
  {
   "cell_type": "markdown",
   "metadata": {},
   "source": [
    "| 参数： | **pretrained** ([_bool_](https://docs.python.org/3/library/functions.html#bool \"(in Python v3.7)\")) – 如果设置为True，返回ImageNet预训练模型 |\n",
    "| --- | --- |\n",
    "\n",
    "```py\n",
    "torchvision.models.vgg13(pretrained=False, **kwargs)\n",
    "```\n",
    "\n",
    "VGG13模型。（论文中的“B”模型）"
   ]
  },
  {
   "cell_type": "markdown",
   "metadata": {},
   "source": [
    "| 参数： | **pretrained** ([_bool_](https://docs.python.org/3/library/functions.html#bool \"(in Python v3.7)\")) – 如果设置为True，返回ImageNet预训练模型 |\n",
    "| --- | --- |\n",
    "\n",
    "```py\n",
    "torchvision.models.vgg13_bn(pretrained=False, **kwargs)\n",
    "```\n",
    "\n",
    "VGG13模型，带有批标准化。（论文中的“B”模型）"
   ]
  },
  {
   "cell_type": "markdown",
   "metadata": {},
   "source": [
    "| 参数： | **pretrained** ([_bool_](https://docs.python.org/3/library/functions.html#bool \"(in Python v3.7)\")) – 如果设置为True，返回ImageNet预训练模型 |\n",
    "| --- | --- |\n",
    "\n",
    "```py\n",
    "torchvision.models.vgg16(pretrained=False, **kwargs)\n",
    "```\n",
    "\n",
    "VGG16模型。（论文中的“D”模型）"
   ]
  },
  {
   "cell_type": "markdown",
   "metadata": {},
   "source": [
    "| 参数： | **pretrained** ([_bool_](https://docs.python.org/3/library/functions.html#bool \"(in Python v3.7)\")) – 如果设置为True，返回ImageNet预训练模型 |\n",
    "| --- | --- |\n",
    "\n",
    "```py\n",
    "torchvision.models.vgg16_bn(pretrained=False, **kwargs)\n",
    "```\n",
    "\n",
    "VGG16模型，带有批标准化。（论文中的“D”模型）"
   ]
  },
  {
   "cell_type": "markdown",
   "metadata": {},
   "source": [
    "| 参数： | **pretrained** ([_bool_](https://docs.python.org/3/library/functions.html#bool \"(in Python v3.7)\")) – 如果设置为True，返回ImageNet预训练模型 |\n",
    "| --- | --- |\n",
    "\n",
    "```py\n",
    "torchvision.models.vgg19(pretrained=False, **kwargs)\n",
    "```\n",
    "\n",
    "VGG19模型。（论文中的“E”模型）"
   ]
  },
  {
   "cell_type": "markdown",
   "metadata": {},
   "source": [
    "| 参数： | **pretrained** ([_bool_](https://docs.python.org/3/library/functions.html#bool \"(in Python v3.7)\")) – 如果设置为True，返回ImageNet预训练模型 |\n",
    "| --- | --- |\n",
    "\n",
    "```py\n",
    "torchvision.models.vgg19_bn(pretrained=False, **kwargs)\n",
    "```\n",
    "\n",
    "VGG19模型，带有批标准化。（论文中的“E”模型）"
   ]
  },
  {
   "cell_type": "markdown",
   "metadata": {},
   "source": [
    "| 参数： | **pretrained** ([_bool_](https://docs.python.org/3/library/functions.html#bool \"(in Python v3.7)\")) – 如果设置为True，返回ImageNet预训练模型 |\n",
    "| --- | --- |\n",
    "\n",
    "## ResNet\n",
    "\n",
    "```py\n",
    "torchvision.models.resnet18(pretrained=False, **kwargs)\n",
    "```\n",
    "\n",
    "构造ResNet-18模型。"
   ]
  },
  {
   "cell_type": "markdown",
   "metadata": {},
   "source": [
    "| 参数： | **pretrained** ([_bool_](https://docs.python.org/3/library/functions.html#bool \"(in Python v3.7)\")) – 如果设置为True，返回ImageNet预训练模型 |\n",
    "| --- | --- |\n",
    "\n",
    "```py\n",
    "torchvision.models.resnet34(pretrained=False, **kwargs)\n",
    "```\n",
    "\n",
    "构造ResNet-34模型。"
   ]
  },
  {
   "cell_type": "markdown",
   "metadata": {},
   "source": [
    "| 参数： | **pretrained** ([_bool_](https://docs.python.org/3/library/functions.html#bool \"(in Python v3.7)\")) – 如果设置为True，返回ImageNet预训练模型 |\n",
    "| --- | --- |\n",
    "\n",
    "```py\n",
    "torchvision.models.resnet50(pretrained=False, **kwargs)\n",
    "```\n",
    "\n",
    "构造ResNet-50模型。"
   ]
  },
  {
   "cell_type": "markdown",
   "metadata": {},
   "source": [
    "| 参数： | **pretrained** ([_bool_](https://docs.python.org/3/library/functions.html#bool \"(in Python v3.7)\")) – 如果设置为True，返回ImageNet预训练模型 |\n",
    "| --- | --- |\n",
    "\n",
    "```py\n",
    "torchvision.models.resnet101(pretrained=False, **kwargs)\n",
    "```\n",
    "\n",
    "构造ResNet-101模型。"
   ]
  },
  {
   "cell_type": "markdown",
   "metadata": {},
   "source": [
    "| 参数： | **pretrained** ([_bool_](https://docs.python.org/3/library/functions.html#bool \"(in Python v3.7)\")) – 如果设置为True，返回ImageNet预训练模型 |\n",
    "| --- | --- |\n",
    "\n",
    "```py\n",
    "torchvision.models.resnet152(pretrained=False, **kwargs)\n",
    "```\n",
    "\n",
    "构造ResNet-152模型。"
   ]
  },
  {
   "cell_type": "markdown",
   "metadata": {},
   "source": [
    "| 参数： | **pretrained** ([_bool_](https://docs.python.org/3/library/functions.html#bool \"(in Python v3.7)\")) – 如果设置为True，返回ImageNet预训练模型 |\n",
    "| --- | --- |\n",
    "\n",
    "## SqueezeNet\n",
    "\n",
    "```py\n",
    "torchvision.models.squeezenet1_0(pretrained=False, **kwargs)\n",
    "```\n",
    "\n",
    "SqueezeNet模型，参见论文[《SqueezeNet: AlexNet-level accuracy with 50x fewer parameters and &lt;0.5MB model size》](https://arxiv.org/abs/1602.07360)。"
   ]
  },
  {
   "cell_type": "markdown",
   "metadata": {},
   "source": [
    "| 参数： | **pretrained** ([_bool_](https://docs.python.org/3/library/functions.html#bool \"(in Python v3.7)\")) – 如果设置为True，返回ImageNet预训练模型 |\n",
    "| --- | --- |\n",
    "\n",
    "```py\n",
    "torchvision.models.squeezenet1_1(pretrained=False, **kwargs)\n",
    "```\n",
    "\n",
    "SqueezeNet 1.1模型，参见[SqueezeNet官方仓库](https://github.com/DeepScale/SqueezeNet/tree/master/SqueezeNet_v1.1)。SqueezeNet 1.1比SqueezeNet 1.0节约2.4倍的计算量，参数也略少，然而精度未做牺牲。"
   ]
  },
  {
   "cell_type": "markdown",
   "metadata": {},
   "source": [
    "| 参数： | **pretrained** ([_bool_](https://docs.python.org/3/library/functions.html#bool \"(in Python v3.7)\")) – 如果设置为True，返回ImageNet预训练模型 |\n",
    "| --- | --- |\n",
    "\n",
    "## DenseNet\n",
    "\n",
    "```py\n",
    "torchvision.models.densenet121(pretrained=False, **kwargs)\n",
    "```\n",
    "\n",
    "Densenet-121模型，参见[《Densely Connected Convolutional Networks》](https://arxiv.org/pdf/1608.06993.pdf)。"
   ]
  },
  {
   "cell_type": "markdown",
   "metadata": {},
   "source": [
    "| 参数： | **pretrained** ([_bool_](https://docs.python.org/3/library/functions.html#bool \"(in Python v3.7)\")) – 如果设置为True，返回ImageNet预训练模型 |\n",
    "| --- | --- |\n",
    "\n",
    "```py\n",
    "torchvision.models.densenet169(pretrained=False, **kwargs)\n",
    "```\n",
    "\n",
    "Densenet-169模型，参见[《Densely Connected Convolutional Networks》](https://arxiv.org/pdf/1608.06993.pdf)。"
   ]
  },
  {
   "cell_type": "markdown",
   "metadata": {},
   "source": [
    "| 参数： | **pretrained** ([_bool_](https://docs.python.org/3/library/functions.html#bool \"(in Python v3.7)\")) – 如果设置为True，返回ImageNet预训练模型 |\n",
    "| --- | --- |\n",
    "\n",
    "```py\n",
    "torchvision.models.densenet161(pretrained=False, **kwargs)\n",
    "```\n",
    "\n",
    "Densenet-161模型，参见[《Densely Connected Convolutional Networks》](https://arxiv.org/pdf/1608.06993.pdf)。"
   ]
  },
  {
   "cell_type": "markdown",
   "metadata": {},
   "source": [
    "| 参数： | **pretrained** ([_bool_](https://docs.python.org/3/library/functions.html#bool \"(in Python v3.7)\")) – 如果设置为True，返回ImageNet预训练模型 |\n",
    "| --- | --- |\n",
    "\n",
    "```py\n",
    "torchvision.models.densenet201(pretrained=False, **kwargs)\n",
    "```\n",
    "\n",
    "Densenet-201模型，参见[《Densely Connected Convolutional Networks》](https://arxiv.org/pdf/1608.06993.pdf)。"
   ]
  },
  {
   "cell_type": "markdown",
   "metadata": {},
   "source": [
    "| 参数： | **pretrained** ([_bool_](https://docs.python.org/3/library/functions.html#bool \"(in Python v3.7)\")) – 如果设置为True，返回ImageNet预训练模型 |\n",
    "| --- | --- |\n",
    "\n",
    "## Inception v3\n",
    "\n",
    "```py\n",
    "torchvision.models.inception_v3(pretrained=False, **kwargs)\n",
    "```\n",
    "\n",
    "Inception v3模型，参见[《Rethinking the Inception Architecture for Computer Vision》](http://arxiv.org/abs/1512.00567)。\n",
    " \n",
    "| 参数： | **pretrained** ([_bool_](https://docs.python.org/3/library/functions.html#bool \"(in Python v3.7)\")) – 如果设置为True，返回ImageNet预训练模型 |\n",
    "| --- | --- |\n"
   ]
  }
 ],
 "metadata": {
  "jupytext": {
   "cell_metadata_filter": "-all",
   "main_language": "python",
   "notebook_metadata_filter": "-all"
  }
 },
 "nbformat": 4,
 "nbformat_minor": 2
}
