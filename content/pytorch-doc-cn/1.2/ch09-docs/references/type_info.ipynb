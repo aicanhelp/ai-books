{
 "cells": [
  {
   "cell_type": "markdown",
   "metadata": {},
   "source": []
  },
  {
   "cell_type": "markdown",
   "metadata": {},
   "source": [
    "# 数据类型信息 \n",
    "\n",
    "> 译者：[冯宝宝](https://github.com/PEGASUS1993)  \n",
    "\n",
    "可以通过[`torch.finfo`](#torch.torch.finfo \"torch.torch.finfo\") 或 [`torch.iinfo`](#torch.torch.iinfo \"torch.torch.iinfo\")访问[`torch.dtype`](tensor_attributes.html#torch.torch.dtype \"torch.torch.dtype\")的数字属性。  \n",
    "\n",
    "## torch.finfo  \n",
    "\n",
    "```py\n",
    "class torch.finfo\n",
    "``` \n",
    "\n",
    " [`torch.finfo`](#torch.torch.finfo \"torch.torch.finfo\") 是一个用来表示浮点[`torch.dtype`](tensor_attributes.html#torch.torch.dtype \"torch.torch.dtype\")的数字属性的对象（即`torch.float32`，`torch.float64`和`torch.float16`）。 这类似于 [numpy.finfo](https://docs.scipy.org/doc/numpy/reference/generated/numpy.finfo.html)。  \n",
    "\n",
    "[`torch.finfo`](#torch.torch.finfo \"torch.torch.finfo\") 提供以下属性:  \n",
    "\n",
    "| 名称 | 类型 | 描述 |\n",
    "| --- | --- | --- |\n",
    "| bits | 整型　int |数据类型占用的位数 |\n",
    "| eps | 浮点型float | 可表示的最小数字，使得1.0 + eps！= 1.0|\n",
    "| max | 浮点型float | 可表示的最大数字|\n",
    "| tiny | 浮点型float |可表示的最小正数 |  \n",
    "\n",
    "注意  \n",
    "\n",
    "在使用pytorch默认dtype创建类（由`torch.get_default_dtype（）`返回）的情况下，构造的 [`torch.finfo`](#torch.torch.finfo \"torch.torch.finfo\") 函数可以不带参数被调用。  \n",
    "\n",
    "##  torch.iinfo  \n",
    "\n",
    "```py\n",
    "class torch.iinfo\n",
    "```  \n",
    "\n",
    " [`torch.iinfo`](#torch.torch.iinfo \"torch.torch.iinfo\")是一个用来表示整数[`torch.dtype`](tensor_attributes.html#torch.torch.dtype \"torch.torch.dtype\") 的数字属性的对象，（即`torch.uint8`，`torch.int8`，`torch.int16`，`torch.int32`和`torch.int64`）。 这与[numpy.iinfo](https://docs.scipy.org/doc/numpy/reference/generated/numpy.iinfo.html)类似。  \n",
    "\n",
    "[`torch.iinfo`](#torch.torch.iinfo \"torch.torch.iinfo\") 提供以下属性：   \n",
    "\n",
    "| 名称 | 类型 | 描述 |\n",
    "| --- | --- | --- |\n",
    "| bits | 整型| 数据类型占用的位数 |\n",
    "| max | 整型 | 可表示的最大数字 |\n",
    " \n"
   ]
  }
 ],
 "metadata": {
  "jupytext": {
   "cell_metadata_filter": "-all",
   "main_language": "python",
   "notebook_metadata_filter": "-all"
  }
 },
 "nbformat": 4,
 "nbformat_minor": 2
}
