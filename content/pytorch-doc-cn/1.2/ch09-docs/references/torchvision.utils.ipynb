{
 "cells": [
  {
   "cell_type": "markdown",
   "metadata": {},
   "source": []
  },
  {
   "cell_type": "markdown",
   "metadata": {},
   "source": [
    "# torchvision.utils\n",
    "\n",
    "> 译者：[BXuan694](https://github.com/BXuan694)\n",
    "\n",
    "```py\n",
    "torchvision.utils.make_grid(tensor, nrow=8, padding=2, normalize=False, range=None, scale_each=False, pad_value=0)\n",
    "```\n",
    "\n",
    "把图片排列成网格形状。"
   ]
  },
  {
   "cell_type": "markdown",
   "metadata": {},
   "source": [
    "参数： \n",
    "\n",
    "*   **tensor**（[_Tensor_](../tensors.html#torch.Tensor \"torch.Tensor\") _或_ [_list_](https://docs.python.org/3/library/stdtypes.html#list \"(in Python v3.7)\")）– 四维批（batch）Tensor或列表。如果是Tensor，其形状应是（B x C x H x W）；如果是列表，元素应为相同大小的图片。\n",
    "*   **nrow**（[_int_](https://docs.python.org/3/library/functions.html#int \"(in Python v3.7)\")_,_ _可选_）– 最终展示的图片网格中每行摆放的图片数量。网格的长宽应该是（B / nrow, nrow）。默认是8。\n",
    "*   **padding**（[_int_](https://docs.python.org/3/library/functions.html#int \"(in Python v3.7)\")_,_ _可选_）– 扩展填充的像素宽度。默认是2。\n",
    "*   **normalize**（[_bool_](https://docs.python.org/3/library/functions.html#bool \"(in Python v3.7)\")_,_ _可选_）– 如果设置为True，通过减去最小像素值然后除以最大像素值，把图片移到（0，1）的范围内。\n",
    "*   **range**（[_tuple_](https://docs.python.org/3/library/stdtypes.html#tuple \"(in Python v3.7)\")_,_ _可选_）– 元组（min, max），min和max用于对图片进行标准化处理。默认的，min和max由输入的张量计算得到。\n",
    "*   **scale_each**（[_bool_](https://docs.python.org/3/library/functions.html#bool \"(in Python v3.7)\")_,_ _可选_）– 如果设置为True，将批中的每张图片按照各自的最值分别缩放，否则使用当前批中所有图片的最值(min, max)进行统一缩放。\n",
    "*   **pad_value**（[_float_](https://docs.python.org/3/library/functions.html#float \"(in Python v3.7)\")_,_ _可选_）– 扩展填充的像素值。\n"
   ]
  },
  {
   "cell_type": "markdown",
   "metadata": {},
   "source": [
    "示例：\n",
    "\n",
    "请看 [这里](https://gist.github.com/anonymous/bf16430f7750c023141c562f3e9f2a91)\n",
    "\n",
    "```py\n",
    "torchvision.utils.save_image(tensor, filename, nrow=8, padding=2, normalize=False, range=None, scale_each=False, pad_value=0)\n",
    "```\n",
    "\n",
    "用于把指定的Tensor保存成图片文件。"
   ]
  },
  {
   "cell_type": "markdown",
   "metadata": {},
   "source": [
    "参数：\n",
    "\n",
    "*   **tensor**（[_Tensor_](../tensors.html#torch.Tensor \"torch.Tensor\") _或_ [_list_](https://docs.python.org/3/library/stdtypes.html#list \"(in Python v3.7)\")）– 需要保存成图片的Tensor。如果Tensor以批的形式给出，则会调用`make_grid`将这些图片保存成网格的形式。\n",
    "*   ****kwargs** – 其他参数同`make_grid`。\n"
   ]
  }
 ],
 "metadata": {
  "jupytext": {
   "cell_metadata_filter": "-all",
   "main_language": "python",
   "notebook_metadata_filter": "-all"
  }
 },
 "nbformat": 4,
 "nbformat_minor": 2
}
