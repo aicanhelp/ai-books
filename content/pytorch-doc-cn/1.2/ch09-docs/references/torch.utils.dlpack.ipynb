{
 "cells": [
  {
   "cell_type": "markdown",
   "metadata": {},
   "source": [
    "# torch.utils.dlpack\n",
    "\n",
    "`torch.utils.dlpack.from_dlpack`( _dlpack_ ) → Tensor\n",
    "\n",
    "解码DLPack到张量。\n",
    "\n",
    "    Parameters\n",
    "        **dlpack** - 与dltensor一个PyCapsule对象\n",
    "\n",
    "张量将与dlpack表示的对象共享存储器。请注意，每个dlpack只能使用一次消耗。"
   ]
  },
  {
   "cell_type": "markdown",
   "metadata": {},
   "source": [
    "`torch.utils.dlpack.to_dlpack`( _tensor_ ) → PyCapsule\n",
    "\n",
    "返回表示张量DLPack。\n",
    "\n",
    "    Parameters\n",
    "\n",
    "        **tensor** - 要导出的张量\n",
    "\n",
    "该dlpack共享内存的张量。请注意，每个dlpack只能使用一次消耗。"
   ]
  }
 ],
 "metadata": {
  "jupytext": {
   "cell_metadata_filter": "-all",
   "main_language": "python",
   "notebook_metadata_filter": "-all"
  }
 },
 "nbformat": 4,
 "nbformat_minor": 2
}
