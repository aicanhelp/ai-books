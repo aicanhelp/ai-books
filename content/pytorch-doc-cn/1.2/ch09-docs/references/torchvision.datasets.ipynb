{
 "cells": [
  {
   "cell_type": "markdown",
   "metadata": {},
   "source": [
    "# torchvision.datasets\n",
    "\n",
    "> 译者：[BXuan694](https://github.com/BXuan694)\n",
    "\n",
    "所有的数据集都是[`torch.utils.data.Dataset`](../data.html#torch.utils.data.Dataset \"torch.utils.data.Dataset\")的子类， 即：它们实现了`__getitem__`和`__len__`方法。因此，它们都可以传递给[`torch.utils.data.DataLoader`](../data.html#torch.utils.data.DataLoader \"torch.utils.data.DataLoader\")，进而通过`torch.multiprocessing`实现批数据的并行化加载。例如：\n",
    "\n",
    "```py\n",
    "imagenet_data = torchvision.datasets.ImageFolder('path/to/imagenet_root/')\n",
    "data_loader = torch.utils.data.DataLoader(imagenet_data,\n",
    "                                          batch_size=4,\n",
    "                                          shuffle=True,\n",
    "                                          num_workers=args.nThreads)\n",
    "\n",
    "```\n",
    "\n",
    "目前为止，收录的数据集包括：\n",
    "\n",
    "数据集\n",
    "\n",
    "*   [MNIST](#mnist)\n",
    "*   [Fashion-MNIST](#fashion-mnist)\n",
    "*   [EMNIST](#emnist)\n",
    "*   [COCO](#coco)\n",
    "    *   [Captions](#captions)\n",
    "    *   [Detection](#detection)\n",
    "*   [LSUN](#lsun)\n",
    "*   [ImageFolder](#imagefolder)\n",
    "*   [DatasetFolder](#datasetfolder)\n",
    "*   [Imagenet-12](#imagenet-12)\n",
    "*   [CIFAR](#cifar)\n",
    "*   [STL10](#stl10)\n",
    "*   [SVHN](#svhn)\n",
    "*   [PhotoTour](#phototour)\n",
    "*   [SBU](#sbu)\n",
    "*   [Flickr](#flickr)\n",
    "*   [VOC](#voc)\n",
    "\n",
    "以上数据集的接口基本上很相近。它们至少包括两个公共的参数`transform`和`target_transform`，以便分别对输入和和目标做变换。\n",
    "\n",
    "```py\n",
    "class torchvision.datasets.MNIST(root, train=True, transform=None, target_transform=None, download=False)\n",
    "```\n",
    "\n",
    "[MNIST](http://yann.lecun.com/exdb/mnist/)数据集。"
   ]
  },
  {
   "cell_type": "markdown",
   "metadata": {},
   "source": [
    "参数： \n",
    "\n",
    "*   **root**（_string_）– 数据集的根目录，其中存放`processed/training.pt`和`processed/test.pt`文件。\n",
    "*   **train**（[_bool_](https://docs.python.org/3/library/functions.html#bool \"(in Python v3.7)\")_,_ _可选_）– 如果设置为True，从`training.pt`创建数据集，否则从`test.pt`创建。\n",
    "*   **download**（[_bool_](https://docs.python.org/3/library/functions.html#bool \"(in Python v3.7)\")_,_ _可选_）– 如果设置为True, 从互联网下载数据并放到root文件夹下。如果root目录下已经存在数据，不会再次下载。\n",
    "*   **transform**（_可被调用_ _,_ _可选_）– 一种函数或变换，输入PIL图片，返回变换之后的数据。如：`transforms.RandomCrop`。\n",
    "*   **target_transform** （_可被调用_ _,_ _可选_）– 一种函数或变换，输入目标，进行变换。\n"
   ]
  },
  {
   "cell_type": "markdown",
   "metadata": {},
   "source": [
    "```py\n",
    "class torchvision.datasets.FashionMNIST(root, train=True, transform=None, target_transform=None, download=False)\n",
    "```\n",
    "\n",
    "[Fashion-MNIST](https://github.com/zalandoresearch/fashion-mnist)数据集。"
   ]
  },
  {
   "cell_type": "markdown",
   "metadata": {},
   "source": [
    "参数： \n",
    "\n",
    "*   **root**（_string_）– 数据集的根目录，其中存放`processed/training.pt`和`processed/test.pt`文件。\n",
    "*   **train**（[_bool_](https://docs.python.org/3/library/functions.html#bool \"(in Python v3.7)\")_,_ _可选_）– 如果设置为True，从`training.pt`创建数据集，否则从`test.pt`创建。\n",
    "*   **download**（[_bool_](https://docs.python.org/3/library/functions.html#bool \"(in Python v3.7)\")_,_ _可选_）– 如果设置为True，从互联网下载数据并放到root文件夹下。如果root目录下已经存在数据，不会再次下载。\n",
    "*   **transform**（_可被调用_ _,_ _可选_）– 一种函数或变换，输入PIL图片，返回变换之后的数据。如：`transforms.RandomCrop`。\n",
    "*   **target_transform**（_可被调用_ _,_ _可选_）– 一种函数或变换，输入目标，进行变换。\n"
   ]
  },
  {
   "cell_type": "markdown",
   "metadata": {},
   "source": [
    "```py\n",
    "class torchvision.datasets.EMNIST(root, split, **kwargs)\n",
    "```\n",
    "\n",
    "[EMNIST](https://www.nist.gov/itl/iad/image-group/emnist-dataset/)数据集。"
   ]
  },
  {
   "cell_type": "markdown",
   "metadata": {},
   "source": [
    "参数: \n",
    "\n",
    "*   **root**（_string_）– 数据集的根目录，其中存放`processed/training.pt`和`processed/test.pt`文件。\n",
    "*   **split**（_string_）– 该数据集分成6种：`byclass`，`bymerge`，`balanced`，`letters`，`digits`和`mnist`。这个参数指定了选择其中的哪一种。\n",
    "*   **train**（[_bool_](https://docs.python.org/3/library/functions.html#bool \"(in Python v3.7)\")_,_ _可选_）– 如果设置为True，从`training.pt`创建数据集，否则从`test.pt`创建。\n",
    "*   **download**（[_bool_](https://docs.python.org/3/library/functions.html#bool \"(in Python v3.7)\")_,_ _可选_）– 如果设置为True, 从互联网下载数据并放到root文件夹下。如果root目录下已经存在数据，不会再次下载。\n",
    "*   **transform**（_可被调用_ _,_ _可选_）– 一种函数或变换，输入PIL图片，返回变换之后的数据。如：`transforms.RandomCrop`。\n",
    "*   **target_transform**（_可被调用_ _,_ _可选_) – 一种函数或变换，输入目标，进行变换。\n"
   ]
  },
  {
   "cell_type": "markdown",
   "metadata": {},
   "source": [
    "注意：\n",
    "\n",
    "以下要求预先[安装COCO API](https://github.com/pdollar/coco/tree/master/PythonAPI)。\n",
    "\n",
    "```py\n",
    "class torchvision.datasets.CocoCaptions(root, annFile, transform=None, target_transform=None)\n",
    "```\n",
    "\n",
    "[MS Coco Captions](http://mscoco.org/dataset/#captions-challenge2015)数据集。"
   ]
  },
  {
   "cell_type": "markdown",
   "metadata": {},
   "source": [
    "参数： \n",
    "\n",
    "*   **root**（_string_）– 下载数据的目标目录。\n",
    "*   **annFile**（_string_）– json标注文件的路径。\n",
    "*   **transform**（_可被调用_ _,_ _可选_）– 一种函数或变换，输入PIL图片，返回变换之后的数据。如：`transforms.ToTensor`。\n",
    "*   **target_transform**（_可被调用_ _,_ _可选_）– 一种函数或变换，输入目标，进行变换。\n"
   ]
  },
  {
   "cell_type": "markdown",
   "metadata": {},
   "source": [
    "示例\n",
    "\n",
    "```py\n",
    "import torchvision.datasets as dset\n",
    "import torchvision.transforms as transforms\n",
    "cap = dset.CocoCaptions(root = 'dir where images are',\n",
    "                        annFile = 'json annotation file',\n",
    "                        transform=transforms.ToTensor())\n",
    "\n",
    "print('Number of samples: ', len(cap))\n",
    "img, target = cap[3] # load 4th sample\n",
    "\n",
    "print(\"Image Size: \", img.size())\n",
    "print(target)\n",
    "\n",
    "```\n",
    "\n",
    "输出：\n",
    "\n",
    "```py\n",
    "Number of samples: 82783\n",
    "Image Size: (3L, 427L, 640L)\n",
    "[u'A plane emitting smoke stream flying over a mountain.',\n",
    "u'A plane darts across a bright blue sky behind a mountain covered in snow',\n",
    "u'A plane leaves a contrail above the snowy mountain top.',\n",
    "u'A mountain that has a plane flying overheard in the distance.',\n",
    "u'A mountain view with a plume of smoke in the background']\n",
    "\n",
    "```\n",
    "\n",
    "```py\n",
    "__getitem__(index)\n",
    "```"
   ]
  },
  {
   "cell_type": "markdown",
   "metadata": {},
   "source": [
    "| 参数： | **index** ([_int_](https://docs.python.org/3/library/functions.html#int \"(in Python v3.7)\")) – 索引 |\n",
    "| --- | --- |\n",
    "| 返回： | 元组(image, target)，其中target是列表类型，包含了对图片image的描述。 |\n",
    "| --- | --- |\n",
    "| 返回类型： | [tuple](https://docs.python.org/3/library/stdtypes.html#tuple \"(in Python v3.7)\") |\n",
    "| --- | --- |\n",
    "\n",
    "```py\n",
    "class torchvision.datasets.CocoDetection(root, annFile, transform=None, target_transform=None)\n",
    "```\n",
    "\n",
    "[MS Coco Detection](http://mscoco.org/dataset/#detections-challenge2016)数据集。"
   ]
  },
  {
   "cell_type": "markdown",
   "metadata": {},
   "source": [
    "参数： \n",
    "\n",
    "*   **root**（_string_）– 下载数据的目标目录。\n",
    "*   **annFile**（_string_）– json标注文件的路径。\n",
    "*   **transform**（_可被调用_ _,_ _可选_）– 一种函数或变换，输入PIL图片，返回变换之后的数据。如：`transforms.ToTensor`。\n",
    "*   **target_transform**（_可被调用_ _,_ _可选_）– 一种函数或变换，输入目标，进行变换。\n"
   ]
  },
  {
   "cell_type": "markdown",
   "metadata": {},
   "source": [
    "```py\n",
    "__getitem__(index)\n",
    "```"
   ]
  },
  {
   "cell_type": "markdown",
   "metadata": {},
   "source": [
    "| 参数: | **index** ([_int_](https://docs.python.org/3/library/functions.html#int \"(in Python v3.7)\")) – 索引 |\n",
    "| --- | --- |\n",
    "| 返回： | 元组(image, target)，其中target是`coco.loadAnns`返回的对象。 |\n",
    "| --- | --- |\n",
    "| 返回类型： | [tuple](https://docs.python.org/3/library/stdtypes.html#tuple \"(in Python v3.7)\") |\n",
    "| --- | --- |\n",
    "\n",
    "```py\n",
    "class torchvision.datasets.LSUN(root, classes='train', transform=None, target_transform=None)\n",
    "```\n",
    "\n",
    "[LSUN](http://lsun.cs.princeton.edu)数据集。"
   ]
  },
  {
   "cell_type": "markdown",
   "metadata": {},
   "source": [
    "参数：\n",
    "\n",
    "*   **root**（_string_）– 存放数据文件的根目录。\n",
    "*   **classes**（_string_ _或_ [_list_](https://docs.python.org/3/library/stdtypes.html#list \"(in Python v3.7)\")）– {‘train’, ‘val’, ‘test’}之一，或要加载类别的列表，如[‘bedroom_train’, ‘church_train’]。\n",
    "*   **transform**（_可被调用_ _,_ _可选_) – 一种函数或变换，输入PIL图片，返回变换之后的数据。如：`transforms.RandomCrop`。\n",
    "*   **target_transform**（_可被调用_ _,_ _可选_）– 一种函数或变换，输入目标，进行变换。\n"
   ]
  },
  {
   "cell_type": "markdown",
   "metadata": {},
   "source": [
    "```py\n",
    "__getitem__(index)\n",
    "```"
   ]
  },
  {
   "cell_type": "markdown",
   "metadata": {},
   "source": [
    "| 参数： | **index** ([_int_](https://docs.python.org/3/library/functions.html#int \"(in Python v3.7)\")) – 索引 |\n",
    "| --- | --- |\n",
    "| 返回： | 元组(image, target)，其中target是目标类别的索引。 |\n",
    "| --- | --- |\n",
    "| Return type: | [tuple](https://docs.python.org/3/library/stdtypes.html#tuple \"(in Python v3.7)\") |\n",
    "| --- | --- |\n",
    "\n",
    "```py\n",
    "class torchvision.datasets.ImageFolder(root, transform=None, target_transform=None, loader=<function default_loader>)\n",
    "```\n",
    "\n",
    "一种通用数据加载器，其图片应该按照如下的形式保存：\n",
    "\n",
    "```py\n",
    "root/dog/xxx.png\n",
    "root/dog/xxy.png\n",
    "root/dog/xxz.png\n",
    "\n",
    "root/cat/123.png\n",
    "root/cat/nsdf3.png\n",
    "root/cat/asd932_.png\n",
    "\n",
    "```"
   ]
  },
  {
   "cell_type": "markdown",
   "metadata": {},
   "source": [
    "参数： \n",
    "\n",
    "*   **root**（_string_）– 根目录路径。\n",
    "*   **transform**（_可被调用_ _,_ _可选_）– 一种函数或变换，输入PIL图片，返回变换之后的数据。如：`transforms.RandomCrop`。\n",
    "*   **target_transform**（_可被调用_ _,_ _可选_）– 一种函数或变换，输入目标，进行变换。\n",
    "*   **loader** – 一种函数，可以由给定的路径加载图片。\n"
   ]
  },
  {
   "cell_type": "markdown",
   "metadata": {},
   "source": [
    "```py\n",
    "__getitem__(index)\n",
    "```"
   ]
  },
  {
   "cell_type": "markdown",
   "metadata": {},
   "source": [
    "| 参数： | **index** ([_int_](https://docs.python.org/3/library/functions.html#int \"(in Python v3.7)\")) – 索引 |\n",
    "| --- | --- |\n",
    "| 返回： | (sample, target)，其中target是目标类的类索引。 |\n",
    "| --- | --- |\n",
    "| 返回类型： | [tuple](https://docs.python.org/3/library/stdtypes.html#tuple \"(in Python v3.7)\") |\n",
    "| --- | --- |\n",
    "\n",
    "```py\n",
    "class torchvision.datasets.DatasetFolder(root, loader, extensions, transform=None, target_transform=None)\n",
    "```\n",
    "\n",
    "一种通用数据加载器，其数据应该按照如下的形式保存：\n",
    "\n",
    "```py\n",
    "root/class_x/xxx.ext\n",
    "root/class_x/xxy.ext\n",
    "root/class_x/xxz.ext\n",
    "\n",
    "root/class_y/123.ext\n",
    "root/class_y/nsdf3.ext\n",
    "root/class_y/asd932_.ext\n",
    "\n",
    "```"
   ]
  },
  {
   "cell_type": "markdown",
   "metadata": {},
   "source": [
    "参数: \n",
    "\n",
    "*   **root**（_string_）– 根目录路径。\n",
    "*   **loader**（_可被调用_）– 一种函数，可以由给定的路径加载数据。\n",
    "*   **extensions**（[_list_](https://docs.python.org/3/library/stdtypes.html#list \"(in Python v3.7)\")_[__string__]_）– 列表，包含允许的扩展。\n",
    "*   **transform**（_可被调用_ _,_ _可选_）– 一种函数或变换，输入数据，返回变换之后的数据。如：对于图片有`transforms.RandomCrop`。\n",
    "*   **target_transform** – 一种函数或变换，输入目标，进行变换。\n"
   ]
  },
  {
   "cell_type": "markdown",
   "metadata": {},
   "source": [
    "```py\n",
    "__getitem__(index)\n",
    "```"
   ]
  },
  {
   "cell_type": "markdown",
   "metadata": {},
   "source": [
    "| 参数： | **index** ([_int_](https://docs.python.org/3/library/functions.html#int \"(in Python v3.7)\")) – 索引 |\n",
    "| --- | --- |\n",
    "| 返回： | (sample, target)，其中target是目标类的类索引. |\n",
    "| --- | --- |\n",
    "| 返回类型： | [tuple](https://docs.python.org/3/library/stdtypes.html#tuple \"(in Python v3.7)\") |\n",
    "| --- | --- |\n",
    "\n",
    "这个类可以很容易地实现`ImageFolder`数据集。数据预处理见[此处](https://github.com/facebook/fb.resnet.torch/blob/master/INSTALL.md#download-the-imagenet-dataset)。\n",
    "\n",
    "[示例](https://github.com/pytorch/examples/blob/e0d33a69bec3eb4096c265451dbb85975eb961ea/imagenet/main.py#L113-L126)。\n",
    "\n",
    "```py\n",
    "class torchvision.datasets.CIFAR10(root, train=True, transform=None, target_transform=None, download=False)\n",
    "```\n",
    "\n",
    "[CIFAR10](https://www.cs.toronto.edu/~kriz/cifar.html)数据集。"
   ]
  },
  {
   "cell_type": "markdown",
   "metadata": {},
   "source": [
    "参数：\n",
    "\n",
    "*   **root**（_string_）– 数据集根目录，要么其中应存在`cifar-10-batches-py`文件夹，要么当download设置为True时`cifar-10-batches-py`文件夹保存在此处。\n",
    "*   **train**（[_bool_](https://docs.python.org/3/library/functions.html#bool \"(in Python v3.7)\")_,_ _可选_）– 如果设置为True, 从训练集中创建，否则从测试集中创建。\n",
    "*   **transform**（_可被调用_ _,_ _可选_）– 一种函数或变换，输入PIL图片，返回变换之后的数据。如：`transforms.RandomCrop`。\n",
    "*   **target_transform**（_可被调用_ _,_ _可选_）– 一种函数或变换，输入目标，进行变换。\n",
    "*   **download**（[_bool_](https://docs.python.org/3/library/functions.html#bool \"(in Python v3.7)\")_,_ _可选_）– 如果设置为True，从互联网下载数据并放到root文件夹下。如果root目录下已经存在数据，不会再次下载。\n"
   ]
  },
  {
   "cell_type": "markdown",
   "metadata": {},
   "source": [
    "```py\n",
    "__getitem__(index)\n",
    "```"
   ]
  },
  {
   "cell_type": "markdown",
   "metadata": {},
   "source": [
    "| 参数： | **index** ([_int_](https://docs.python.org/3/library/functions.html#int \"(in Python v3.7)\")) – 索引 |\n",
    "| --- | --- |\n",
    "| 返回： | (image, target)，其中target是目标类的类索引。 |\n",
    "| --- | --- |\n",
    "| 返回类型： | [tuple](https://docs.python.org/3/library/stdtypes.html#tuple \"(in Python v3.7)\") |\n",
    "| --- | --- |\n",
    "\n",
    "```py\n",
    "class torchvision.datasets.CIFAR100(root, train=True, transform=None, target_transform=None, download=False)\n",
    "```\n",
    "\n",
    "[CIFAR100](https://www.cs.toronto.edu/~kriz/cifar.html)数据集。\n",
    "\n",
    "这是`CIFAR10`数据集的一个子集。\n",
    "\n",
    "```py\n",
    "class torchvision.datasets.STL10(root, split='train', transform=None, target_transform=None, download=False)\n",
    "```\n",
    "\n",
    "[STL10](https://cs.stanford.edu/~acoates/stl10/)数据集。"
   ]
  },
  {
   "cell_type": "markdown",
   "metadata": {},
   "source": [
    "参数：\n",
    "\n",
    "*   **root**（_string_）– 数据集根目录，应该包含`stl10_binary`文件夹。\n",
    "*   **split**（_string_）– {‘train’, ‘test’, ‘unlabeled’, ‘train+unlabeled’}之一，选择相应的数据集。\n",
    "*   **transform**（_可被调用_ _,_ _可选_）– 一种函数或变换，输入PIL图片，返回变换之后的数据。如：`transforms.RandomCrop`。\n",
    "*   **target_transform**（_可被调用_ _,_ _可选_）– 一种函数或变换，输入目标，进行变换。\n",
    "*   **download**（[_bool_](https://docs.python.org/3/library/functions.html#bool \"(in Python v3.7)\")_,_ _optional_）– 如果设置为True，从互联网下载数据并放到root文件夹下。如果root目录下已经存在数据，不会再次下载。\n"
   ]
  },
  {
   "cell_type": "markdown",
   "metadata": {},
   "source": [
    "```py\n",
    "__getitem__(index)\n",
    "```"
   ]
  },
  {
   "cell_type": "markdown",
   "metadata": {},
   "source": [
    "| 参数： | **index** ([_int_](https://docs.python.org/3/library/functions.html#int \"(in Python v3.7)\")) – 索引 |\n",
    "| --- | --- |\n",
    "| 返回： | (image, target)，其中target应是目标类的类索引。 |\n",
    "| --- | --- |\n",
    "| 返回类型： | [tuple](https://docs.python.org/3/library/stdtypes.html#tuple \"(in Python v3.7)\") |\n",
    "| --- | --- |\n",
    "\n",
    "```py\n",
    "class torchvision.datasets.SVHN(root, split='train', transform=None, target_transform=None, download=False)\n",
    "```\n",
    "\n",
    "[SVHN](http://ufldl.stanford.edu/housenumbers/)数据集。注意：SVHN数据集将`10`指定为数字`0`的标签。然而，这里我们将`0`指定为数字`0`的标签以兼容PyTorch的损失函数，因为损失函数要求类标签在`[0, C-1]`的范围内。"
   ]
  },
  {
   "cell_type": "markdown",
   "metadata": {},
   "source": [
    "参数：\n",
    "\n",
    "*   **root**（_string_）– 数据集根目录，应包含`SVHN`文件夹。\n",
    "*   **split**（_string_）– {‘train’, ‘test’, ‘extra’}之一，相应的数据集会被选择。‘extra’是extra训练集。\n",
    "*   **transform**（_可被调用_ _,_ _可选_）– 一种函数或变换，输入PIL图片，返回变换之后的数据。如：`transforms.RandomCrop`。\n",
    "*   **target_transform**（_可被调用_ _,_ _可选_）– 一种函数或变换，输入目标，进行变换。\n",
    "*   **download**（[_bool_](https://docs.python.org/3/library/functions.html#bool \"(in Python v3.7)\")_,_ _可选_）– 如果设置为True，从互联网下载数据并放到root文件夹下。如果root目录下已经存在数据，不会再次下载。\n"
   ]
  },
  {
   "cell_type": "markdown",
   "metadata": {},
   "source": [
    "```py\n",
    "__getitem__(index)\n",
    "```"
   ]
  },
  {
   "cell_type": "markdown",
   "metadata": {},
   "source": [
    "| 参数： | **index** ([_int_](https://docs.python.org/3/library/functions.html#int \"(in Python v3.7)\")) – 索引 |\n",
    "| --- | --- |\n",
    "| 返回： | (image, target)，其中target是目标类的类索引。 |\n",
    "| --- | --- |\n",
    "| 返回类型： | [tuple](https://docs.python.org/3/library/stdtypes.html#tuple \"(in Python v3.7)\") |\n",
    "| --- | --- |\n",
    "\n",
    "```py\n",
    "class torchvision.datasets.PhotoTour(root, name, train=True, transform=None, download=False)\n",
    "```\n",
    "\n",
    "[Learning Local Image Descriptors Data](http://phototour.cs.washington.edu/patches/default.htm)数据集。"
   ]
  },
  {
   "cell_type": "markdown",
   "metadata": {},
   "source": [
    "参数：\n",
    "\n",
    "*   **root**（_string_）– 保存图片的根目录。\n",
    "*   **name**（_string_）– 要加载的数据集。\n",
    "*   **transform**（_可被调用_ _,_ _可选_）– 一种函数或变换，输入PIL图片，返回变换之后的数据。\n",
    "*   **download** ([_bool_](https://docs.python.org/3/library/functions.html#bool \"(in Python v3.7)\")_,_ _optional_) – 如果设置为True，从互联网下载数据并放到root文件夹下。如果root目录下已经存在数据，不会再次下载。\n"
   ]
  },
  {
   "cell_type": "markdown",
   "metadata": {},
   "source": [
    "```py\n",
    "__getitem__(index)\n",
    "```"
   ]
  },
  {
   "cell_type": "markdown",
   "metadata": {},
   "source": [
    "| 参数： | **index** ([_int_](https://docs.python.org/3/library/functions.html#int \"(in Python v3.7)\")) – 索引 |\n",
    "| --- | --- |\n",
    "| 返回： | (data1, data2, matches) |\n",
    "| --- | --- |\n",
    "| 返回类型： | [tuple](https://docs.python.org/3/library/stdtypes.html#tuple \"(in Python v3.7)\") |\n",
    "| --- | --- |\n"
   ]
  }
 ],
 "metadata": {
  "jupytext": {
   "cell_metadata_filter": "-all",
   "main_language": "python",
   "notebook_metadata_filter": "-all"
  }
 },
 "nbformat": 4,
 "nbformat_minor": 2
}
