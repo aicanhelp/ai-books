{
 "cells": [
  {
   "cell_type": "markdown",
   "metadata": {},
   "source": [
    "# torch.utils.model_zoo\n",
    "\n",
    "> 译者：[BXuan694](https://github.com/BXuan694)\n",
    "\n",
    "```py\n",
    "torch.utils.model_zoo.load_url(url, model_dir=None, map_location=None, progress=True)\n",
    "```\n",
    "\n",
    "由给定URL加载Torch序列化对象。\n",
    "\n",
    "如果该对象已经存在于`model_dir`中，将被反序列化并返回。URL的文件名部分应该遵循约定`filename-<sha256>.ext`，其中`<sha256>`是文件内容的SHA256哈希的前八位或更多位数。（哈希用于确保唯一的名称并验证文件的内容）\n",
    "\n",
    "`model_dir`默认为`$TORCH_HOME/models`，其中`$TORCH_HOME`默认是`~/.torch`。如果不需要默认目录，可以通过环境变量`$TORCH_MODEL_ZOO`指定其它的目录。\n",
    "\n",
    "参数：\n",
    "\n",
    "*   **url**（_string_）– 要下载的对象的URL链接\n",
    "*   **model_dir**（_string_ _,_ _可选_）– 保存下载对象的目录\n",
    "*   **map_location**（_可选_）– 函数或字典，指定如何重新映射存储位置（见torch.load）\n",
    "*   **progress**（[_bool_](https://docs.python.org/3/library/functions.html#bool \"(in Python v3.7)\")_,_ _可选_）– 是否向标准输出展示进度条\n"
   ]
  },
  {
   "cell_type": "markdown",
   "metadata": {},
   "source": [
    "示例\n",
    "\n",
    "```py\n",
    ">>> state_dict = torch.utils.model_zoo.load_url('https://s3.amazonaws.com/pytorch/models/resnet18-5c106cde.pth')\n",
    "```\n"
   ]
  }
 ],
 "metadata": {
  "jupytext": {
   "cell_metadata_filter": "-all",
   "main_language": "python",
   "notebook_metadata_filter": "-all"
  }
 },
 "nbformat": 4,
 "nbformat_minor": 2
}
